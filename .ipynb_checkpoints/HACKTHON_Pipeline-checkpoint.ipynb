{
 "cells": [
  {
   "cell_type": "markdown",
   "metadata": {},
   "source": [
    "# HACKTHON 4"
   ]
  },
  {
   "cell_type": "code",
   "execution_count": 1,
   "metadata": {},
   "outputs": [],
   "source": [
    "import pandas as pd\n",
    "import numpy as np\n",
    "import matplotlib.pyplot as plt\n",
    "import warnings\n",
    "import string\n",
    "\n",
    "from tqdm import tqdm\n",
    "from collections import Counter\n",
    "from spacy.matcher import Matcher\n",
    "from sklearn.metrics import accuracy_score\n",
    "from sklearn.metrics import f1_score\n",
    "from nltk.tokenize import WordPunctTokenizer\n",
    "from sklearn.preprocessing import StandardScaler\n",
    "from sklearn.pipeline import Pipeline, FeatureUnion\n",
    "from sklearn.model_selection import train_test_split\n",
    "from sklearn.base import BaseEstimator, TransformerMixin\n",
    "from sklearn.feature_extraction.text import TfidfVectorizer\n",
    "\n",
    "from sklearn.pipeline import Pipeline, FeatureUnion\n",
    "from sklearn.ensemble import RandomForestClassifier\n",
    "from sklearn.neighbors import KNeighborsClassifier\n",
    "from sklearn.naive_bayes import MultinomialNB\n",
    "\n",
    "import os\n",
    "import re\n",
    "import nltk\n",
    "import spacy\n",
    "\n",
    "cpu_count = int(os.cpu_count()) if os.cpu_count() != None else 4"
   ]
  },
  {
   "cell_type": "code",
   "execution_count": 2,
   "metadata": {},
   "outputs": [],
   "source": [
    "%matplotlib inline\n",
    "warnings.simplefilter(\"ignore\")"
   ]
  },
  {
   "cell_type": "markdown",
   "metadata": {},
   "source": [
    "## 1 - EXTRA Pipeline"
   ]
  },
  {
   "cell_type": "code",
   "execution_count": 3,
   "metadata": {},
   "outputs": [
    {
     "data": {
      "text/html": [
       "<div>\n",
       "<style scoped>\n",
       "    .dataframe tbody tr th:only-of-type {\n",
       "        vertical-align: middle;\n",
       "    }\n",
       "\n",
       "    .dataframe tbody tr th {\n",
       "        vertical-align: top;\n",
       "    }\n",
       "\n",
       "    .dataframe thead th {\n",
       "        text-align: right;\n",
       "    }\n",
       "</style>\n",
       "<table border=\"1\" class=\"dataframe\">\n",
       "  <thead>\n",
       "    <tr style=\"text-align: right;\">\n",
       "      <th></th>\n",
       "      <th>reviewerID</th>\n",
       "      <th>reviewerName</th>\n",
       "      <th>reviewText</th>\n",
       "      <th>summary</th>\n",
       "      <th>reviewTime</th>\n",
       "      <th>rates_count</th>\n",
       "      <th>helpful_count</th>\n",
       "      <th>rating</th>\n",
       "    </tr>\n",
       "  </thead>\n",
       "  <tbody>\n",
       "    <tr>\n",
       "      <th>0</th>\n",
       "      <td>A3UPFTGAWZ3G2R</td>\n",
       "      <td>David J. Loftus</td>\n",
       "      <td>Jenkins, a history professor and Member of Par...</td>\n",
       "      <td>Quite readable, nicely done</td>\n",
       "      <td>12 6, 2001</td>\n",
       "      <td>40</td>\n",
       "      <td>37</td>\n",
       "      <td>4</td>\n",
       "    </tr>\n",
       "    <tr>\n",
       "      <th>1</th>\n",
       "      <td>A1XTKTLNSCRLDS</td>\n",
       "      <td>Ellen Rappaport</td>\n",
       "      <td>Detective Inspector Erlendur Sveinsson is at h...</td>\n",
       "      <td>Mesmerizing in depth</td>\n",
       "      <td>02 23, 2014</td>\n",
       "      <td>0</td>\n",
       "      <td>0</td>\n",
       "      <td>5</td>\n",
       "    </tr>\n",
       "    <tr>\n",
       "      <th>2</th>\n",
       "      <td>A1A77B6DQQH436</td>\n",
       "      <td>crescamp \"esc\"</td>\n",
       "      <td>I didn't read this.  I purchased it for a gift...</td>\n",
       "      <td>10-minute life lessons for kids</td>\n",
       "      <td>02 12, 2013</td>\n",
       "      <td>3</td>\n",
       "      <td>0</td>\n",
       "      <td>3</td>\n",
       "    </tr>\n",
       "  </tbody>\n",
       "</table>\n",
       "</div>"
      ],
      "text/plain": [
       "       reviewerID     reviewerName  \\\n",
       "0  A3UPFTGAWZ3G2R  David J. Loftus   \n",
       "1  A1XTKTLNSCRLDS  Ellen Rappaport   \n",
       "2  A1A77B6DQQH436   crescamp \"esc\"   \n",
       "\n",
       "                                          reviewText  \\\n",
       "0  Jenkins, a history professor and Member of Par...   \n",
       "1  Detective Inspector Erlendur Sveinsson is at h...   \n",
       "2  I didn't read this.  I purchased it for a gift...   \n",
       "\n",
       "                           summary   reviewTime  rates_count  helpful_count  \\\n",
       "0      Quite readable, nicely done   12 6, 2001           40             37   \n",
       "1             Mesmerizing in depth  02 23, 2014            0              0   \n",
       "2  10-minute life lessons for kids  02 12, 2013            3              0   \n",
       "\n",
       "   rating  \n",
       "0       4  \n",
       "1       5  \n",
       "2       3  "
      ]
     },
     "execution_count": 3,
     "metadata": {},
     "output_type": "execute_result"
    }
   ],
   "source": [
    "df_train = pd.read_csv('./data/book_review_labelled_data.csv')\n",
    "df_train.drop([\"overall\"], axis=1,inplace=True)\n",
    "df_train.head(3)"
   ]
  },
  {
   "cell_type": "code",
   "execution_count": 4,
   "metadata": {},
   "outputs": [
    {
     "data": {
      "text/html": [
       "<div>\n",
       "<style scoped>\n",
       "    .dataframe tbody tr th:only-of-type {\n",
       "        vertical-align: middle;\n",
       "    }\n",
       "\n",
       "    .dataframe tbody tr th {\n",
       "        vertical-align: top;\n",
       "    }\n",
       "\n",
       "    .dataframe thead th {\n",
       "        text-align: right;\n",
       "    }\n",
       "</style>\n",
       "<table border=\"1\" class=\"dataframe\">\n",
       "  <thead>\n",
       "    <tr style=\"text-align: right;\">\n",
       "      <th></th>\n",
       "      <th>reviewerID</th>\n",
       "      <th>reviewerName</th>\n",
       "      <th>reviewText</th>\n",
       "      <th>summary</th>\n",
       "      <th>reviewTime</th>\n",
       "      <th>rating</th>\n",
       "    </tr>\n",
       "  </thead>\n",
       "  <tbody>\n",
       "    <tr>\n",
       "      <th>0</th>\n",
       "      <td>A2HESNQJZ9OB7H</td>\n",
       "      <td>Jen</td>\n",
       "      <td>So boring and stupid had a hard time finishing...</td>\n",
       "      <td>Unbelievable.</td>\n",
       "      <td>02 16, 2014</td>\n",
       "      <td>1</td>\n",
       "    </tr>\n",
       "    <tr>\n",
       "      <th>1</th>\n",
       "      <td>A1ABXPSFA9PC8N</td>\n",
       "      <td>Ben Parker</td>\n",
       "      <td>Ill be the first to admit i'm not the best coo...</td>\n",
       "      <td>Easy and Clear Cooking</td>\n",
       "      <td>11 7, 2012</td>\n",
       "      <td>5</td>\n",
       "    </tr>\n",
       "    <tr>\n",
       "      <th>2</th>\n",
       "      <td>AYVW3O6W8S5S4</td>\n",
       "      <td>Johnny in Texas</td>\n",
       "      <td>Doesn't tell you how to do anything...  just s...</td>\n",
       "      <td>not bad</td>\n",
       "      <td>02 25, 2014</td>\n",
       "      <td>3</td>\n",
       "    </tr>\n",
       "  </tbody>\n",
       "</table>\n",
       "</div>"
      ],
      "text/plain": [
       "       reviewerID     reviewerName  \\\n",
       "0  A2HESNQJZ9OB7H              Jen   \n",
       "1  A1ABXPSFA9PC8N       Ben Parker   \n",
       "2   AYVW3O6W8S5S4  Johnny in Texas   \n",
       "\n",
       "                                          reviewText                 summary  \\\n",
       "0  So boring and stupid had a hard time finishing...           Unbelievable.   \n",
       "1  Ill be the first to admit i'm not the best coo...  Easy and Clear Cooking   \n",
       "2  Doesn't tell you how to do anything...  just s...                 not bad   \n",
       "\n",
       "    reviewTime  rating  \n",
       "0  02 16, 2014       1  \n",
       "1   11 7, 2012       5  \n",
       "2  02 25, 2014       3  "
      ]
     },
     "execution_count": 4,
     "metadata": {},
     "output_type": "execute_result"
    }
   ],
   "source": [
    "df_test = pd.read_csv('./data/book_review_test_data_unlabelled.csv')\n",
    "df_test.head(3)\n"
   ]
  },
  {
   "cell_type": "markdown",
   "metadata": {},
   "source": [
    "# LABEL"
   ]
  },
  {
   "cell_type": "code",
   "execution_count": 5,
   "metadata": {},
   "outputs": [],
   "source": [
    "def create_train_set(df, threshold=0.8):\n",
    "    df_=df.copy()\n",
    "    df_['label_aux'] = df_['helpful_count']/df_['rates_count']\n",
    "    df_['label'] = (df_['label_aux'] >= threshold)\n",
    "    df_.drop([\"label_aux\"], axis=1,inplace=True)\n",
    "    df_['label'].value_counts(normalize=True)\n",
    "    df_=df_[df_['rates_count']>0]\n",
    "    \n",
    "    return df_"
   ]
  },
  {
   "cell_type": "code",
   "execution_count": 6,
   "metadata": {},
   "outputs": [
    {
     "name": "stdout",
     "output_type": "stream",
     "text": [
      "(49992, 8)\n",
      "(28423, 9)\n"
     ]
    },
    {
     "data": {
      "text/html": [
       "<div>\n",
       "<style scoped>\n",
       "    .dataframe tbody tr th:only-of-type {\n",
       "        vertical-align: middle;\n",
       "    }\n",
       "\n",
       "    .dataframe tbody tr th {\n",
       "        vertical-align: top;\n",
       "    }\n",
       "\n",
       "    .dataframe thead th {\n",
       "        text-align: right;\n",
       "    }\n",
       "</style>\n",
       "<table border=\"1\" class=\"dataframe\">\n",
       "  <thead>\n",
       "    <tr style=\"text-align: right;\">\n",
       "      <th></th>\n",
       "      <th>reviewerID</th>\n",
       "      <th>reviewerName</th>\n",
       "      <th>reviewText</th>\n",
       "      <th>summary</th>\n",
       "      <th>reviewTime</th>\n",
       "      <th>rates_count</th>\n",
       "      <th>helpful_count</th>\n",
       "      <th>rating</th>\n",
       "      <th>label</th>\n",
       "    </tr>\n",
       "  </thead>\n",
       "  <tbody>\n",
       "    <tr>\n",
       "      <th>0</th>\n",
       "      <td>A3UPFTGAWZ3G2R</td>\n",
       "      <td>David J. Loftus</td>\n",
       "      <td>Jenkins, a history professor and Member of Par...</td>\n",
       "      <td>Quite readable, nicely done</td>\n",
       "      <td>12 6, 2001</td>\n",
       "      <td>40</td>\n",
       "      <td>37</td>\n",
       "      <td>4</td>\n",
       "      <td>True</td>\n",
       "    </tr>\n",
       "    <tr>\n",
       "      <th>2</th>\n",
       "      <td>A1A77B6DQQH436</td>\n",
       "      <td>crescamp \"esc\"</td>\n",
       "      <td>I didn't read this.  I purchased it for a gift...</td>\n",
       "      <td>10-minute life lessons for kids</td>\n",
       "      <td>02 12, 2013</td>\n",
       "      <td>3</td>\n",
       "      <td>0</td>\n",
       "      <td>3</td>\n",
       "      <td>False</td>\n",
       "    </tr>\n",
       "    <tr>\n",
       "      <th>3</th>\n",
       "      <td>AEAF4MRYHJZI</td>\n",
       "      <td>Angelia Menchan \"acvermen.blogspot.com\"</td>\n",
       "      <td>Fierce Angels by Sheri Park reads like a disse...</td>\n",
       "      <td>So FIERCE</td>\n",
       "      <td>03 24, 2010</td>\n",
       "      <td>9</td>\n",
       "      <td>9</td>\n",
       "      <td>4</td>\n",
       "      <td>True</td>\n",
       "    </tr>\n",
       "  </tbody>\n",
       "</table>\n",
       "</div>"
      ],
      "text/plain": [
       "       reviewerID                             reviewerName  \\\n",
       "0  A3UPFTGAWZ3G2R                          David J. Loftus   \n",
       "2  A1A77B6DQQH436                           crescamp \"esc\"   \n",
       "3    AEAF4MRYHJZI  Angelia Menchan \"acvermen.blogspot.com\"   \n",
       "\n",
       "                                          reviewText  \\\n",
       "0  Jenkins, a history professor and Member of Par...   \n",
       "2  I didn't read this.  I purchased it for a gift...   \n",
       "3  Fierce Angels by Sheri Park reads like a disse...   \n",
       "\n",
       "                           summary   reviewTime  rates_count  helpful_count  \\\n",
       "0      Quite readable, nicely done   12 6, 2001           40             37   \n",
       "2  10-minute life lessons for kids  02 12, 2013            3              0   \n",
       "3                        So FIERCE  03 24, 2010            9              9   \n",
       "\n",
       "   rating  label  \n",
       "0       4   True  \n",
       "2       3  False  \n",
       "3       4   True  "
      ]
     },
     "execution_count": 6,
     "metadata": {},
     "output_type": "execute_result"
    }
   ],
   "source": [
    "print(df_train.shape)\n",
    "df_train=create_train_set(df_train, 0.8)\n",
    "print(df_train.shape)\n",
    "df_train.head(3)"
   ]
  },
  {
   "cell_type": "markdown",
   "metadata": {},
   "source": [
    "# EXTRA Features"
   ]
  },
  {
   "cell_type": "code",
   "execution_count": 7,
   "metadata": {},
   "outputs": [],
   "source": [
    "def create_extra_features(df):\n",
    "    df_ = df.copy()\n",
    "    \n",
    "    stop_words = nltk.corpus.stopwords.words('english')\n",
    "    \n",
    "    df_['reviewText_lower'] = df_['reviewText'].str.lower()\n",
    "    df_['reviewText_lower_no_punctuation'] = df_['reviewText_lower'].apply(lambda x: re.sub(r'[^\\w\\s]','', x))\n",
    "    df_['nb_words'] = df_['reviewText_lower_no_punctuation'].apply(lambda x: len(x.split()))\n",
    "    df_['nb_stopwords'] = df_['reviewText_lower_no_punctuation'].apply(lambda x: len([word for word in x.split() if word in stop_words]))\n",
    "    df_['avg_word_length'] = df_['reviewText_lower_no_punctuation'].apply(lambda x: np.mean([len(t) for t in x.split()]) if np.mean([len(t) for t in x.split()  if t not in stop_words]) > 0 else 0)\n",
    "    tokenizer = WordPunctTokenizer()\n",
    "    df_['reviewText_tokenized'] = df_['reviewText'].apply(lambda x: ' '.join(tokenizer.tokenize(x)))\n",
    "    df_['nb_punctuation'] = df_['reviewText_tokenized'].apply(lambda x: len([punct for punct in x.split() if punct in string.punctuation]))\n",
    "    df_['nb_punctuation_normalized'] = df_['nb_punctuation']/df_['nb_words']\n",
    "    df_['nb_stopwords_normalized'] = df_['nb_stopwords']/df_['nb_words']\n",
    "    \n",
    "    df_ = df_.drop(['reviewText_lower', 'reviewText_lower_no_punctuation', 'reviewText_tokenized'], axis=1)\n",
    "    new_cols = ['nb_words', 'nb_stopwords', 'avg_word_length', 'nb_punctuation', 'nb_punctuation_normalized', 'nb_stopwords_normalized']\n",
    "    return df_, new_cols"
   ]
  },
  {
   "cell_type": "code",
   "execution_count": 10,
   "metadata": {},
   "outputs": [],
   "source": [
    "df_train_processed, new_cols = create_extra_features(df_train)\n",
    "df_test_processed, new_cols = create_extra_features(df_test)"
   ]
  },
  {
   "cell_type": "code",
   "execution_count": 11,
   "metadata": {},
   "outputs": [
    {
     "data": {
      "text/plain": [
       "['nb_words',\n",
       " 'nb_stopwords',\n",
       " 'avg_word_length',\n",
       " 'nb_punctuation',\n",
       " 'nb_punctuation_normalized',\n",
       " 'nb_stopwords_normalized']"
      ]
     },
     "execution_count": 11,
     "metadata": {},
     "output_type": "execute_result"
    }
   ],
   "source": [
    "new_cols"
   ]
  },
  {
   "cell_type": "markdown",
   "metadata": {},
   "source": [
    "## 1.3 - NLP"
   ]
  },
  {
   "cell_type": "code",
   "execution_count": 12,
   "metadata": {},
   "outputs": [],
   "source": [
    "nlp = spacy.load('en_core_web_sm')\n",
    "nlp.add_pipe(\"merge_entities\", after=\"ner\")\n",
    "en_stopwords = nlp.Defaults.stop_words"
   ]
  },
  {
   "cell_type": "markdown",
   "metadata": {},
   "source": [
    "#### POS-Tagging Search"
   ]
  },
  {
   "cell_type": "code",
   "execution_count": null,
   "metadata": {},
   "outputs": [
    {
     "name": "stderr",
     "output_type": "stream",
     "text": [
      "  3%|▎         | 983/28423 [00:41<25:23, 18.02it/s] "
     ]
    }
   ],
   "source": [
    "docs_train = list(tqdm(nlp.pipe(df_train[\"reviewText\"], batch_size=20, n_process=cpu_count-1), total=len(df_train[\"reviewText\"])))\n",
    "docs_test = list(tqdm(nlp.pipe(df_test[\"reviewText\"], batch_size=20, n_process=cpu_count-1), total=len(df_test[\"reviewText\"])))"
   ]
  },
  {
   "cell_type": "code",
   "execution_count": 45,
   "metadata": {},
   "outputs": [],
   "source": [
    "def df_define(df):\n",
    "    \n",
    "    df_=df.copy()\n",
    "    \n",
    "    #if docs is None:\n",
    "    docs_test = list(tqdm(nlp.pipe(df_[\"reviewText\"], batch_size=20, n_process=cpu_count-1), total=len(df_[\"reviewText\"])))\n",
    "\n",
    "    ## Add adjectives and adverbs count\n",
    "    matcher = Matcher(nlp.vocab)\n",
    "    pattern = [[{'POS': 'ADJ'}], [{'POS': 'ADV'}]]\n",
    "    matcher.add('LOC', pattern)\n",
    "\n",
    "\n",
    "    nb_adj_adv = []\n",
    "    for i, doc in enumerate(docs):\n",
    "        matches = matcher(doc)\n",
    "        count = 0\n",
    "        for match_id, start, end in matches:\n",
    "            span = doc[start:end]  # the matched span\n",
    "            count +=1\n",
    "        nb_adj_adv.append(count)\n",
    "    \n",
    "    df_[\"nb_adj_adv\"] = nb_adj_adv\n",
    "    \n",
    "    \n",
    "    df_[\"nb_words\"] = df_['reviewText'].str.split().map(len)\n",
    "    df_[\"doc_length\"] = df_['reviewText'].map(len)\n",
    "    df_[\"avg_word_length\"] = df_['reviewText'].apply(lambda x: np.mean([len(t) for t in x.split()]) if len([len(t) for t in x.split(' ')]) > 0 else 0).fillna(0)\n",
    "    \n",
    "    return df_"
   ]
  },
  {
   "cell_type": "code",
   "execution_count": 21,
   "metadata": {},
   "outputs": [
    {
     "data": {
      "text/html": [
       "<div>\n",
       "<style scoped>\n",
       "    .dataframe tbody tr th:only-of-type {\n",
       "        vertical-align: middle;\n",
       "    }\n",
       "\n",
       "    .dataframe tbody tr th {\n",
       "        vertical-align: top;\n",
       "    }\n",
       "\n",
       "    .dataframe thead th {\n",
       "        text-align: right;\n",
       "    }\n",
       "</style>\n",
       "<table border=\"1\" class=\"dataframe\">\n",
       "  <thead>\n",
       "    <tr style=\"text-align: right;\">\n",
       "      <th></th>\n",
       "      <th>reviewerID</th>\n",
       "      <th>reviewerName</th>\n",
       "      <th>reviewText</th>\n",
       "      <th>summary</th>\n",
       "      <th>reviewTime</th>\n",
       "      <th>rating</th>\n",
       "      <th>nb_adj_adv</th>\n",
       "      <th>nb_words</th>\n",
       "      <th>doc_length</th>\n",
       "      <th>avg_word_length</th>\n",
       "    </tr>\n",
       "  </thead>\n",
       "  <tbody>\n",
       "    <tr>\n",
       "      <th>0</th>\n",
       "      <td>A2HESNQJZ9OB7H</td>\n",
       "      <td>Jen</td>\n",
       "      <td>So boring and stupid had a hard time finishing...</td>\n",
       "      <td>Unbelievable.</td>\n",
       "      <td>02 16, 2014</td>\n",
       "      <td>1</td>\n",
       "      <td>25</td>\n",
       "      <td>119</td>\n",
       "      <td>634</td>\n",
       "      <td>4.277311</td>\n",
       "    </tr>\n",
       "    <tr>\n",
       "      <th>1</th>\n",
       "      <td>A1ABXPSFA9PC8N</td>\n",
       "      <td>Ben Parker</td>\n",
       "      <td>Ill be the first to admit i'm not the best coo...</td>\n",
       "      <td>Easy and Clear Cooking</td>\n",
       "      <td>11 7, 2012</td>\n",
       "      <td>5</td>\n",
       "      <td>12</td>\n",
       "      <td>82</td>\n",
       "      <td>435</td>\n",
       "      <td>4.280488</td>\n",
       "    </tr>\n",
       "    <tr>\n",
       "      <th>2</th>\n",
       "      <td>AYVW3O6W8S5S4</td>\n",
       "      <td>Johnny in Texas</td>\n",
       "      <td>Doesn't tell you how to do anything...  just s...</td>\n",
       "      <td>not bad</td>\n",
       "      <td>02 25, 2014</td>\n",
       "      <td>3</td>\n",
       "      <td>7</td>\n",
       "      <td>38</td>\n",
       "      <td>203</td>\n",
       "      <td>4.289474</td>\n",
       "    </tr>\n",
       "  </tbody>\n",
       "</table>\n",
       "</div>"
      ],
      "text/plain": [
       "       reviewerID     reviewerName  \\\n",
       "0  A2HESNQJZ9OB7H              Jen   \n",
       "1  A1ABXPSFA9PC8N       Ben Parker   \n",
       "2   AYVW3O6W8S5S4  Johnny in Texas   \n",
       "\n",
       "                                          reviewText                 summary  \\\n",
       "0  So boring and stupid had a hard time finishing...           Unbelievable.   \n",
       "1  Ill be the first to admit i'm not the best coo...  Easy and Clear Cooking   \n",
       "2  Doesn't tell you how to do anything...  just s...                 not bad   \n",
       "\n",
       "    reviewTime  rating  nb_adj_adv  nb_words  doc_length  avg_word_length  \n",
       "0  02 16, 2014       1          25       119         634         4.277311  \n",
       "1   11 7, 2012       5          12        82         435         4.280488  \n",
       "2  02 25, 2014       3           7        38         203         4.289474  "
      ]
     },
     "execution_count": 21,
     "metadata": {},
     "output_type": "execute_result"
    }
   ],
   "source": [
    "df_train_processed = df_define(df=df_train, docs= docs_train)\n",
    "df_train_processed.head(3)\n",
    "\n",
    "df_test_processed = df_define(df=df_test, docs= docs_test)\n",
    "df_test_processed.head(3)"
   ]
  },
  {
   "cell_type": "markdown",
   "metadata": {},
   "source": [
    "### Features Unions"
   ]
  },
  {
   "cell_type": "code",
   "execution_count": 20,
   "metadata": {},
   "outputs": [],
   "source": [
    "class Selector(BaseEstimator, TransformerMixin):\n",
    "    \"\"\"\n",
    "    Transformer to select a column from the dataframe to perform additional transformations on\n",
    "    \"\"\" \n",
    "    def __init__(self, key):\n",
    "        self.key = key\n",
    "        \n",
    "    def fit(self, X, y=None):\n",
    "        return self\n",
    "    \n",
    "\n",
    "class TextSelector(Selector):\n",
    "    \"\"\"\n",
    "    Transformer to select a single column from the data frame to perform additional transformations on\n",
    "    Use on text columns in the data\n",
    "    \"\"\"\n",
    "    def transform(self, X):\n",
    "        return X[self.key]\n",
    "    \n",
    "    \n",
    "class NumberSelector(Selector):\n",
    "    \"\"\"\n",
    "    Transformer to select a single column from the data frame to perform additional transformations on\n",
    "    Use on numeric columns in the data\n",
    "    \"\"\"\n",
    "    def transform(self, X):\n",
    "        return X[[self.key]]\n",
    "    \n",
    "    "
   ]
  },
  {
   "cell_type": "markdown",
   "metadata": {},
   "source": [
    "# Pipeline"
   ]
  },
  {
   "cell_type": "code",
   "execution_count": 23,
   "metadata": {},
   "outputs": [
    {
     "data": {
      "text/html": [
       "<div>\n",
       "<style scoped>\n",
       "    .dataframe tbody tr th:only-of-type {\n",
       "        vertical-align: middle;\n",
       "    }\n",
       "\n",
       "    .dataframe tbody tr th {\n",
       "        vertical-align: top;\n",
       "    }\n",
       "\n",
       "    .dataframe thead th {\n",
       "        text-align: right;\n",
       "    }\n",
       "</style>\n",
       "<table border=\"1\" class=\"dataframe\">\n",
       "  <thead>\n",
       "    <tr style=\"text-align: right;\">\n",
       "      <th></th>\n",
       "      <th>reviewerID</th>\n",
       "      <th>reviewerName</th>\n",
       "      <th>reviewText</th>\n",
       "      <th>summary</th>\n",
       "      <th>reviewTime</th>\n",
       "      <th>rates_count</th>\n",
       "      <th>helpful_count</th>\n",
       "      <th>rating</th>\n",
       "      <th>label</th>\n",
       "      <th>nb_adj_adv</th>\n",
       "      <th>nb_words</th>\n",
       "      <th>doc_length</th>\n",
       "      <th>avg_word_length</th>\n",
       "    </tr>\n",
       "  </thead>\n",
       "  <tbody>\n",
       "    <tr>\n",
       "      <th>0</th>\n",
       "      <td>A3UPFTGAWZ3G2R</td>\n",
       "      <td>David J. Loftus</td>\n",
       "      <td>Jenkins, a history professor and Member of Par...</td>\n",
       "      <td>Quite readable, nicely done</td>\n",
       "      <td>12 6, 2001</td>\n",
       "      <td>40</td>\n",
       "      <td>37</td>\n",
       "      <td>4</td>\n",
       "      <td>True</td>\n",
       "      <td>49</td>\n",
       "      <td>258</td>\n",
       "      <td>1790</td>\n",
       "      <td>5.941860</td>\n",
       "    </tr>\n",
       "    <tr>\n",
       "      <th>2</th>\n",
       "      <td>A1A77B6DQQH436</td>\n",
       "      <td>crescamp \"esc\"</td>\n",
       "      <td>I didn't read this.  I purchased it for a gift...</td>\n",
       "      <td>10-minute life lessons for kids</td>\n",
       "      <td>02 12, 2013</td>\n",
       "      <td>3</td>\n",
       "      <td>0</td>\n",
       "      <td>3</td>\n",
       "      <td>False</td>\n",
       "      <td>2</td>\n",
       "      <td>25</td>\n",
       "      <td>117</td>\n",
       "      <td>3.680000</td>\n",
       "    </tr>\n",
       "    <tr>\n",
       "      <th>3</th>\n",
       "      <td>AEAF4MRYHJZI</td>\n",
       "      <td>Angelia Menchan \"acvermen.blogspot.com\"</td>\n",
       "      <td>Fierce Angels by Sheri Park reads like a disse...</td>\n",
       "      <td>So FIERCE</td>\n",
       "      <td>03 24, 2010</td>\n",
       "      <td>9</td>\n",
       "      <td>9</td>\n",
       "      <td>4</td>\n",
       "      <td>True</td>\n",
       "      <td>41</td>\n",
       "      <td>272</td>\n",
       "      <td>1557</td>\n",
       "      <td>4.724265</td>\n",
       "    </tr>\n",
       "  </tbody>\n",
       "</table>\n",
       "</div>"
      ],
      "text/plain": [
       "       reviewerID                             reviewerName  \\\n",
       "0  A3UPFTGAWZ3G2R                          David J. Loftus   \n",
       "2  A1A77B6DQQH436                           crescamp \"esc\"   \n",
       "3    AEAF4MRYHJZI  Angelia Menchan \"acvermen.blogspot.com\"   \n",
       "\n",
       "                                          reviewText  \\\n",
       "0  Jenkins, a history professor and Member of Par...   \n",
       "2  I didn't read this.  I purchased it for a gift...   \n",
       "3  Fierce Angels by Sheri Park reads like a disse...   \n",
       "\n",
       "                           summary   reviewTime  rates_count  helpful_count  \\\n",
       "0      Quite readable, nicely done   12 6, 2001           40             37   \n",
       "2  10-minute life lessons for kids  02 12, 2013            3              0   \n",
       "3                        So FIERCE  03 24, 2010            9              9   \n",
       "\n",
       "   rating  label  nb_adj_adv  nb_words  doc_length  avg_word_length  \n",
       "0       4   True          49       258        1790         5.941860  \n",
       "2       3  False           2        25         117         3.680000  \n",
       "3       4   True          41       272        1557         4.724265  "
      ]
     },
     "execution_count": 23,
     "metadata": {},
     "output_type": "execute_result"
    }
   ],
   "source": [
    "df_train_processed.head(3)"
   ]
  },
  {
   "cell_type": "code",
   "execution_count": 36,
   "metadata": {},
   "outputs": [],
   "source": [
    "from pandas.api.types import is_numeric_dtype\n",
    "\n",
    "def df_FeatureUnion(df, columns):\n",
    "    df_=df.copy()\n",
    "    for col in columns:\n",
    "        if is_numeric_dtype(df_[col]):\n",
    "            globals()[col+'_pipe'] = Pipeline([\n",
    "                ('selector', NumberSelector(key=col)),\n",
    "                ('standard', StandardScaler())\n",
    "                ])\n",
    "        else:\n",
    "            globals()[col+'_pipe'] = Pipeline([\n",
    "                ('selector', TextSelector(key=col)),\n",
    "                ('tfidf', TfidfVectorizer())\n",
    "                ])\n",
    "    \n",
    "    feats = FeatureUnion([('reviewText', reviewText_pipe), \n",
    "                          ('nb_adj_adv', nb_adj_adv_pipe),\n",
    "                          ('nb_words', nb_words_pipe),\n",
    "                          ('doc_length', doc_length_pipe),\n",
    "                          ('avg_word_length', avg_word_length_pipe),\n",
    "                          ('rating', avg_word_length_pipe)])    \n",
    "    \n",
    "    feature_processing = Pipeline([('feats', feats)])\n",
    "    \n",
    "    return feats    "
   ]
  },
  {
   "cell_type": "code",
   "execution_count": 38,
   "metadata": {},
   "outputs": [],
   "source": [
    "feats = df_FeatureUnion(df_train_processed, ['rating', 'reviewText','nb_adj_adv','nb_words', 'doc_length', 'avg_word_length'])\n"
   ]
  },
  {
   "cell_type": "code",
   "execution_count": 39,
   "metadata": {},
   "outputs": [],
   "source": [
    "def improved_pipeline(feats, X_train, X_val, y_train, y_val, X_test):\n",
    "    \"\"\"\n",
    "    Train a Random Forest using sklearn's Pipeline and return the trained model and its accuracy in the test set.\n",
    "    Don't forget to add the feats to the Pipeline!\n",
    "    \"\"\"\n",
    "    \n",
    "    pipe = Pipeline([\n",
    "        ('features',feats),\n",
    "        ('classifier', RandomForestClassifier()),\n",
    "    ])\n",
    "    \n",
    "    pipe.fit(X_train, y_train)\n",
    "    y_val_preds = pipe.predict(X_val)\n",
    "    y_test_preds = pipe.predict(X_test)\n",
    "    val_f1_score = f1_score(y_val, y_val_pred)\n",
    "\n",
    "    return pipe, val_f1_score, y_test_preds"
   ]
  },
  {
   "cell_type": "code",
   "execution_count": 23,
   "metadata": {},
   "outputs": [
    {
     "name": "stdout",
     "output_type": "stream",
     "text": [
      "184      ham\n",
      "2171     ham\n",
      "5422     ham\n",
      "4113     ham\n",
      "4588     ham\n",
      "        ... \n",
      "1932     ham\n",
      "5316     ham\n",
      "2308    spam\n",
      "1903    spam\n",
      "763      ham\n",
      "Name: label, Length: 4457, dtype: object\n"
     ]
    },
    {
     "data": {
      "text/plain": [
       "0.9757847533632287"
      ]
     },
     "execution_count": 23,
     "metadata": {},
     "output_type": "execute_result"
    }
   ],
   "source": [
    "Y = df_processed[\"label\"]\n",
    "X = df_processed.drop(columns=\"label\")\n",
    "\n",
    "X_train, X_test, y_train, y_test = train_test_split(X, Y, test_size=0.2, random_state=42, stratify=Y)\n",
    "pipeline_model, pipeline_acc, pipeline_prediction = improved_pipeline(feats, X_train, X_test, y_train, y_test)\n",
    "\n",
    "pipeline_acc"
   ]
  },
  {
   "cell_type": "code",
   "execution_count": null,
   "metadata": {},
   "outputs": [],
   "source": []
  },
  {
   "cell_type": "code",
   "execution_count": null,
   "metadata": {},
   "outputs": [],
   "source": []
  }
 ],
 "metadata": {
  "kernelspec": {
   "display_name": "Python 3",
   "language": "python",
   "name": "python3"
  },
  "language_info": {
   "codemirror_mode": {
    "name": "ipython",
    "version": 3
   },
   "file_extension": ".py",
   "mimetype": "text/x-python",
   "name": "python",
   "nbconvert_exporter": "python",
   "pygments_lexer": "ipython3",
   "version": "3.7.11"
  }
 },
 "nbformat": 4,
 "nbformat_minor": 2
}
