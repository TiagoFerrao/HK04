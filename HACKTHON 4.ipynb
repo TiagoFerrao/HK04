{
 "cells": [
  {
   "cell_type": "markdown",
   "metadata": {},
   "source": [
    "# HACKTHON 4"
   ]
  },
  {
   "cell_type": "code",
   "execution_count": 1,
   "metadata": {},
   "outputs": [],
   "source": [
    "import pandas as pd\n",
    "import numpy as np\n",
    "import matplotlib.pyplot as plt\n",
    "import warnings\n",
    "\n",
    "\n",
    "from tqdm import tqdm\n",
    "from collections import Counter\n",
    "from spacy.matcher import Matcher\n",
    "from sklearn.metrics import accuracy_score\n",
    "from sklearn.metrics import f1_score\n",
    "from nltk.tokenize import WordPunctTokenizer\n",
    "from sklearn.preprocessing import StandardScaler\n",
    "from sklearn.pipeline import Pipeline, FeatureUnion\n",
    "from sklearn.model_selection import train_test_split\n",
    "from sklearn.base import BaseEstimator, TransformerMixin\n",
    "from sklearn.feature_extraction.text import TfidfVectorizer\n",
    "\n",
    "from sklearn.pipeline import Pipeline, FeatureUnion\n",
    "from sklearn.ensemble import RandomForestClassifier\n",
    "from sklearn.neighbors import KNeighborsClassifier\n",
    "from sklearn.naive_bayes import MultinomialNB\n",
    "\n",
    "import os\n",
    "import re\n",
    "import nltk\n",
    "import spacy\n",
    "\n",
    "cpu_count = int(os.cpu_count()) if os.cpu_count() != None else 4"
   ]
  },
  {
   "cell_type": "code",
   "execution_count": 2,
   "metadata": {},
   "outputs": [],
   "source": [
    "%matplotlib inline\n",
    "warnings.simplefilter(\"ignore\")"
   ]
  },
  {
   "cell_type": "markdown",
   "metadata": {},
   "source": [
    "## 1 - Import Dataset"
   ]
  },
  {
   "cell_type": "code",
   "execution_count": 3,
   "metadata": {},
   "outputs": [
    {
     "data": {
      "text/html": [
       "<div>\n",
       "<style scoped>\n",
       "    .dataframe tbody tr th:only-of-type {\n",
       "        vertical-align: middle;\n",
       "    }\n",
       "\n",
       "    .dataframe tbody tr th {\n",
       "        vertical-align: top;\n",
       "    }\n",
       "\n",
       "    .dataframe thead th {\n",
       "        text-align: right;\n",
       "    }\n",
       "</style>\n",
       "<table border=\"1\" class=\"dataframe\">\n",
       "  <thead>\n",
       "    <tr style=\"text-align: right;\">\n",
       "      <th></th>\n",
       "      <th>reviewerID</th>\n",
       "      <th>reviewerName</th>\n",
       "      <th>reviewText</th>\n",
       "      <th>summary</th>\n",
       "      <th>reviewTime</th>\n",
       "      <th>rates_count</th>\n",
       "      <th>helpful_count</th>\n",
       "      <th>rating</th>\n",
       "    </tr>\n",
       "  </thead>\n",
       "  <tbody>\n",
       "    <tr>\n",
       "      <th>0</th>\n",
       "      <td>A3UPFTGAWZ3G2R</td>\n",
       "      <td>David J. Loftus</td>\n",
       "      <td>Jenkins, a history professor and Member of Par...</td>\n",
       "      <td>Quite readable, nicely done</td>\n",
       "      <td>12 6, 2001</td>\n",
       "      <td>40</td>\n",
       "      <td>37</td>\n",
       "      <td>4</td>\n",
       "    </tr>\n",
       "    <tr>\n",
       "      <th>1</th>\n",
       "      <td>A1XTKTLNSCRLDS</td>\n",
       "      <td>Ellen Rappaport</td>\n",
       "      <td>Detective Inspector Erlendur Sveinsson is at h...</td>\n",
       "      <td>Mesmerizing in depth</td>\n",
       "      <td>02 23, 2014</td>\n",
       "      <td>0</td>\n",
       "      <td>0</td>\n",
       "      <td>5</td>\n",
       "    </tr>\n",
       "    <tr>\n",
       "      <th>2</th>\n",
       "      <td>A1A77B6DQQH436</td>\n",
       "      <td>crescamp \"esc\"</td>\n",
       "      <td>I didn't read this.  I purchased it for a gift...</td>\n",
       "      <td>10-minute life lessons for kids</td>\n",
       "      <td>02 12, 2013</td>\n",
       "      <td>3</td>\n",
       "      <td>0</td>\n",
       "      <td>3</td>\n",
       "    </tr>\n",
       "    <tr>\n",
       "      <th>3</th>\n",
       "      <td>AEAF4MRYHJZI</td>\n",
       "      <td>Angelia Menchan \"acvermen.blogspot.com\"</td>\n",
       "      <td>Fierce Angels by Sheri Park reads like a disse...</td>\n",
       "      <td>So FIERCE</td>\n",
       "      <td>03 24, 2010</td>\n",
       "      <td>9</td>\n",
       "      <td>9</td>\n",
       "      <td>4</td>\n",
       "    </tr>\n",
       "    <tr>\n",
       "      <th>4</th>\n",
       "      <td>A3B7KU72LGWFER</td>\n",
       "      <td>Grifel \"Tea Time\"</td>\n",
       "      <td>Clearly this author had two goals in mind: 1) ...</td>\n",
       "      <td>Drivel!</td>\n",
       "      <td>06 21, 2003</td>\n",
       "      <td>19</td>\n",
       "      <td>13</td>\n",
       "      <td>1</td>\n",
       "    </tr>\n",
       "  </tbody>\n",
       "</table>\n",
       "</div>"
      ],
      "text/plain": [
       "       reviewerID                             reviewerName  \\\n",
       "0  A3UPFTGAWZ3G2R                          David J. Loftus   \n",
       "1  A1XTKTLNSCRLDS                          Ellen Rappaport   \n",
       "2  A1A77B6DQQH436                           crescamp \"esc\"   \n",
       "3    AEAF4MRYHJZI  Angelia Menchan \"acvermen.blogspot.com\"   \n",
       "4  A3B7KU72LGWFER                        Grifel \"Tea Time\"   \n",
       "\n",
       "                                          reviewText  \\\n",
       "0  Jenkins, a history professor and Member of Par...   \n",
       "1  Detective Inspector Erlendur Sveinsson is at h...   \n",
       "2  I didn't read this.  I purchased it for a gift...   \n",
       "3  Fierce Angels by Sheri Park reads like a disse...   \n",
       "4  Clearly this author had two goals in mind: 1) ...   \n",
       "\n",
       "                           summary   reviewTime  rates_count  helpful_count  \\\n",
       "0      Quite readable, nicely done   12 6, 2001           40             37   \n",
       "1             Mesmerizing in depth  02 23, 2014            0              0   \n",
       "2  10-minute life lessons for kids  02 12, 2013            3              0   \n",
       "3                        So FIERCE  03 24, 2010            9              9   \n",
       "4                          Drivel!  06 21, 2003           19             13   \n",
       "\n",
       "   rating  \n",
       "0       4  \n",
       "1       5  \n",
       "2       3  \n",
       "3       4  \n",
       "4       1  "
      ]
     },
     "execution_count": 3,
     "metadata": {},
     "output_type": "execute_result"
    }
   ],
   "source": [
    "df = pd.read_csv('./data/book_review_labelled_data.csv')\n",
    "df.drop([\"overall\"], axis=1,inplace=True)\n",
    "#df.rename(columns={\"v1\":\"label\", \"v2\":\"message\"},inplace=True)\n",
    "df.head()"
   ]
  },
  {
   "cell_type": "code",
   "execution_count": 4,
   "metadata": {},
   "outputs": [],
   "source": [
    "# have the same values for all lines\n",
    "#df[df['overall'] != df['rating']]"
   ]
  },
  {
   "cell_type": "code",
   "execution_count": 5,
   "metadata": {},
   "outputs": [
    {
     "data": {
      "text/html": [
       "<div>\n",
       "<style scoped>\n",
       "    .dataframe tbody tr th:only-of-type {\n",
       "        vertical-align: middle;\n",
       "    }\n",
       "\n",
       "    .dataframe tbody tr th {\n",
       "        vertical-align: top;\n",
       "    }\n",
       "\n",
       "    .dataframe thead th {\n",
       "        text-align: right;\n",
       "    }\n",
       "</style>\n",
       "<table border=\"1\" class=\"dataframe\">\n",
       "  <thead>\n",
       "    <tr style=\"text-align: right;\">\n",
       "      <th></th>\n",
       "      <th>reviewerID</th>\n",
       "      <th>reviewerName</th>\n",
       "      <th>reviewText</th>\n",
       "      <th>summary</th>\n",
       "      <th>reviewTime</th>\n",
       "      <th>rating</th>\n",
       "    </tr>\n",
       "  </thead>\n",
       "  <tbody>\n",
       "    <tr>\n",
       "      <th>0</th>\n",
       "      <td>A2HESNQJZ9OB7H</td>\n",
       "      <td>Jen</td>\n",
       "      <td>So boring and stupid had a hard time finishing...</td>\n",
       "      <td>Unbelievable.</td>\n",
       "      <td>02 16, 2014</td>\n",
       "      <td>1</td>\n",
       "    </tr>\n",
       "    <tr>\n",
       "      <th>1</th>\n",
       "      <td>A1ABXPSFA9PC8N</td>\n",
       "      <td>Ben Parker</td>\n",
       "      <td>Ill be the first to admit i'm not the best coo...</td>\n",
       "      <td>Easy and Clear Cooking</td>\n",
       "      <td>11 7, 2012</td>\n",
       "      <td>5</td>\n",
       "    </tr>\n",
       "    <tr>\n",
       "      <th>2</th>\n",
       "      <td>AYVW3O6W8S5S4</td>\n",
       "      <td>Johnny in Texas</td>\n",
       "      <td>Doesn't tell you how to do anything...  just s...</td>\n",
       "      <td>not bad</td>\n",
       "      <td>02 25, 2014</td>\n",
       "      <td>3</td>\n",
       "    </tr>\n",
       "    <tr>\n",
       "      <th>3</th>\n",
       "      <td>A17GOTFSUAWN17</td>\n",
       "      <td>Tyson</td>\n",
       "      <td>Whenever I met my last two girlfriends in pers...</td>\n",
       "      <td>Short book, but good primer on how to text girls</td>\n",
       "      <td>03 15, 2014</td>\n",
       "      <td>4</td>\n",
       "    </tr>\n",
       "    <tr>\n",
       "      <th>4</th>\n",
       "      <td>A2VO8K861AV83R</td>\n",
       "      <td>Avatheps \"Avatheps\"</td>\n",
       "      <td>I read the reviews and decided to take a chanc...</td>\n",
       "      <td>Very disappointing. I could not finish it.</td>\n",
       "      <td>12 30, 2013</td>\n",
       "      <td>2</td>\n",
       "    </tr>\n",
       "  </tbody>\n",
       "</table>\n",
       "</div>"
      ],
      "text/plain": [
       "       reviewerID         reviewerName  \\\n",
       "0  A2HESNQJZ9OB7H                  Jen   \n",
       "1  A1ABXPSFA9PC8N           Ben Parker   \n",
       "2   AYVW3O6W8S5S4      Johnny in Texas   \n",
       "3  A17GOTFSUAWN17                Tyson   \n",
       "4  A2VO8K861AV83R  Avatheps \"Avatheps\"   \n",
       "\n",
       "                                          reviewText  \\\n",
       "0  So boring and stupid had a hard time finishing...   \n",
       "1  Ill be the first to admit i'm not the best coo...   \n",
       "2  Doesn't tell you how to do anything...  just s...   \n",
       "3  Whenever I met my last two girlfriends in pers...   \n",
       "4  I read the reviews and decided to take a chanc...   \n",
       "\n",
       "                                            summary   reviewTime  rating  \n",
       "0                                     Unbelievable.  02 16, 2014       1  \n",
       "1                            Easy and Clear Cooking   11 7, 2012       5  \n",
       "2                                           not bad  02 25, 2014       3  \n",
       "3  Short book, but good primer on how to text girls  03 15, 2014       4  \n",
       "4        Very disappointing. I could not finish it.  12 30, 2013       2  "
      ]
     },
     "execution_count": 5,
     "metadata": {},
     "output_type": "execute_result"
    }
   ],
   "source": [
    "df_test = pd.read_csv('./data/book_review_test_data_unlabelled.csv')\n",
    "df_test.head()\n"
   ]
  },
  {
   "cell_type": "markdown",
   "metadata": {},
   "source": [
    "## 1.0 - Label the data"
   ]
  },
  {
   "cell_type": "code",
   "execution_count": 6,
   "metadata": {},
   "outputs": [
    {
     "data": {
      "image/png": "[encoded data removed]",
      "text/plain": [
       "<Figure size 864x720 with 6 Axes>"
      ]
     },
     "metadata": {
      "needs_background": "light"
     },
     "output_type": "display_data"
    }
   ],
   "source": [
    "df['label_aux'] = df['helpful_count']/df['rates_count']\n",
    "df.hist(column='label_aux', by ='rating', bins=100,figsize=(12,10));"
   ]
  },
  {
   "cell_type": "code",
   "execution_count": 7,
   "metadata": {},
   "outputs": [
    {
     "data": {
      "image/png": "[encoded data removed]",
      "text/plain": [
       "<Figure size 864x288 with 1 Axes>"
      ]
     },
     "metadata": {
      "needs_background": "light"
     },
     "output_type": "display_data"
    }
   ],
   "source": [
    "df.hist(column='label_aux', bins=100,figsize=(12,4));"
   ]
  },
  {
   "cell_type": "code",
   "execution_count": 8,
   "metadata": {},
   "outputs": [
    {
     "data": {
      "text/plain": [
       "False    0.705093\n",
       "True     0.294907\n",
       "Name: label, dtype: float64"
      ]
     },
     "execution_count": 8,
     "metadata": {},
     "output_type": "execute_result"
    }
   ],
   "source": [
    "#df.drop([\"label_aux\"], axis=1,inplace=True)\n",
    "threshold = 0.8\n",
    "df['label'] = (df['label_aux'] >= threshold)\n",
    "df['label'].value_counts(normalize=True)"
   ]
  },
  {
   "cell_type": "code",
   "execution_count": 9,
   "metadata": {},
   "outputs": [
    {
     "data": {
      "text/plain": [
       "(49992, 10)"
      ]
     },
     "execution_count": 9,
     "metadata": {},
     "output_type": "execute_result"
    }
   ],
   "source": [
    "df.shape"
   ]
  },
  {
   "cell_type": "code",
   "execution_count": 10,
   "metadata": {},
   "outputs": [
    {
     "data": {
      "text/plain": [
       "0      21569\n",
       "1       8230\n",
       "2       4582\n",
       "3       2867\n",
       "4       2172\n",
       "       ...  \n",
       "268        1\n",
       "204        1\n",
       "140        1\n",
       "267        1\n",
       "639        1\n",
       "Name: rates_count, Length: 243, dtype: int64"
      ]
     },
     "execution_count": 10,
     "metadata": {},
     "output_type": "execute_result"
    }
   ],
   "source": [
    "df['rates_count'].value_counts()"
   ]
  },
  {
   "cell_type": "markdown",
   "metadata": {},
   "source": [
    "### Text to train"
   ]
  },
  {
   "cell_type": "code",
   "execution_count": 11,
   "metadata": {},
   "outputs": [],
   "source": [
    "df_train = df[df['rates_count']>0]"
   ]
  },
  {
   "cell_type": "markdown",
   "metadata": {},
   "source": [
    "### Pre-process"
   ]
  },
  {
   "cell_type": "code",
   "execution_count": 12,
   "metadata": {},
   "outputs": [],
   "source": [
    "nlp = spacy.load('en_core_web_sm')\n",
    "nlp.add_pipe(\"merge_entities\", after=\"ner\")\n",
    "en_stopwords = nlp.Defaults.stop_words"
   ]
  },
  {
   "cell_type": "code",
   "execution_count": 13,
   "metadata": {},
   "outputs": [],
   "source": [
    "tokenizer = WordPunctTokenizer()\n",
    "\n",
    "def remove_punctuation(text):\n",
    "    \"\"\"\n",
    "    Hint: Remember the good old RegEx from 2 LUs ago\n",
    "        how can I just remove everything except words, digits and spaces?\n",
    "    \"\"\"\n",
    "    text = re.sub(r'[^A-Za-z0-9\\s]','',text)\n",
    "    return text.lower()\n",
    "\n",
    "def remove_stopwords(text, stopwords):\n",
    "    \"\"\"\n",
    "    Hint: You may want to split the text into tokens using the tokenizer, it might help when searching for stopwords\n",
    "        If you do, do not forget to join the tokens afterwards!\n",
    "    \"\"\"\n",
    "    words = tokenizer.tokenize(text)\n",
    "    words = [word for word in words if word not in stopwords]\n",
    "    text_processed = ' '.join(words)\n",
    "    \n",
    "    # Return the full string again here\n",
    "    return text_processed\n",
    "\n",
    "def preprocess_text(df):\n",
    "    \n",
    "    df_processed = df.copy()\n",
    "    \n",
    "    df_processed[\"reviewText\"] = df_processed[\"reviewText\"].apply(remove_punctuation)\n",
    "    df_processed[\"reviewText\"] = df_processed[\"reviewText\"].apply(remove_stopwords, stopwords = en_stopwords)\n",
    "    \n",
    "    return df_processed"
   ]
  },
  {
   "cell_type": "code",
   "execution_count": 14,
   "metadata": {},
   "outputs": [],
   "source": [
    "df_train_processed = preprocess_text(df_train)\n",
    "df_test_processed = preprocess_text(df_test)"
   ]
  },
  {
   "cell_type": "markdown",
   "metadata": {},
   "source": [
    "## 1.1 - Baseline - TFidVectorizer"
   ]
  },
  {
   "cell_type": "code",
   "execution_count": 15,
   "metadata": {},
   "outputs": [
    {
     "data": {
      "text/plain": [
       "True     0.5187\n",
       "False    0.4813\n",
       "Name: label, dtype: float64"
      ]
     },
     "execution_count": 15,
     "metadata": {},
     "output_type": "execute_result"
    }
   ],
   "source": [
    "# Target class distribution\n",
    "df_train_processed['label'].value_counts(normalize=True)"
   ]
  },
  {
   "cell_type": "code",
   "execution_count": 16,
   "metadata": {},
   "outputs": [],
   "source": [
    "def baseline_with_tfidf(X_train, X_val, y_train, y_val, X_test):\n",
    "    \"\"\"\n",
    "    Train a Random Forest using sklearn's Pipeline and return the trained model and its accuracy in the test set.\n",
    "    \"\"\"\n",
    "    \n",
    "    pipe = Pipeline([\n",
    "                   ('tfidf', TfidfVectorizer()),\n",
    "                   ('clf', MultinomialNB())])\n",
    "\n",
    "    pipe.fit(X_train, y_train)\n",
    "    y_val_pred = pipe.predict(X_val)\n",
    "    score_val = f1_score(y_val, y_val_pred)\n",
    "    y_test_pred = pipe.predict(X_test)\n",
    "    \n",
    "    return pipe, score_val, y_test_pred"
   ]
  },
  {
   "cell_type": "code",
   "execution_count": 17,
   "metadata": {},
   "outputs": [
    {
     "data": {
      "text/plain": [
       "0.6782717595491548"
      ]
     },
     "execution_count": 17,
     "metadata": {},
     "output_type": "execute_result"
    }
   ],
   "source": [
    "X_train, X_val, y_train, y_val = train_test_split(df_train_processed[\"reviewText\"], df_train_processed[\"label\"], \n",
    "                                                    test_size=0.2, random_state=42)\n",
    "baseline_model, baseline_score, baseline_prediction = baseline_with_tfidf(X_train, X_val, y_train, y_val, df_test_processed['reviewText'])\n",
    "\n",
    "baseline_score"
   ]
  },
  {
   "cell_type": "code",
   "execution_count": 19,
   "metadata": {},
   "outputs": [],
   "source": [
    "def create_output(labels):\n",
    "    df = pd.DataFrame({'is_helpful':labels})\n",
    "    df['is_helpful'] = df['is_helpful'].apply(lambda x: 'true' if x==True else 'false')\n",
    "    df.to_csv('./data/submission.csv', index=False)"
   ]
  },
  {
   "cell_type": "code",
   "execution_count": 20,
   "metadata": {},
   "outputs": [],
   "source": [
    "create_output(baseline_prediction)"
   ]
  },
  {
   "cell_type": "markdown",
   "metadata": {},
   "source": [
    "## 1.2 - Vector Words - Spacy (work the sentence using mean, sum, .... in this case the mean) "
   ]
  },
  {
   "cell_type": "code",
   "execution_count": 7,
   "metadata": {},
   "outputs": [],
   "source": [
    "# Split in train and validation\n",
    "train_data, test_data = train_test_split(df, test_size=0.2, random_state=41)"
   ]
  },
  {
   "cell_type": "code",
   "execution_count": 8,
   "metadata": {},
   "outputs": [],
   "source": [
    "nlp = spacy.load('en_core_web_md')\n",
    "def sentvec_tfidf(s, stopwords):\n",
    "    sent = nlp(s)\n",
    "    return np.average(np.array([w.vector for w in sent if w.text not in stopwords]), axis=0)\n",
    "    \n",
    "def build_sentence_vecs_tfidf(docs, stopwords):\n",
    "    num_examples = len(docs)\n",
    "    word_vector_shape = nlp.vocab.vectors.shape[-1]\n",
    "    vectors = np.zeros([num_examples, word_vector_shape])\n",
    "    for ii, doc in enumerate(docs):\n",
    "        vector = sentvec_tfidf(doc, stopwords)\n",
    "        vectors[ii] = vector\n",
    "    \n",
    "    # in case we get any NaN's or Inf, replace them with 0s\n",
    "    return np.nan_to_num(vectors)"
   ]
  },
  {
   "cell_type": "code",
   "execution_count": 9,
   "metadata": {},
   "outputs": [
    {
     "name": "stdout",
     "output_type": "stream",
     "text": [
      "Accuracy: 0.9524663677130045\n"
     ]
    }
   ],
   "source": [
    "# Run with english stopwords\n",
    "stopwords = set(nltk.corpus.stopwords.words('english'))\n",
    "X_train = build_sentence_vecs_tfidf(train_data['message'].values, stopwords)\n",
    "X_test = build_sentence_vecs_tfidf(test_data['message'].values, stopwords)   \n",
    "\n",
    "clf =  KNeighborsClassifier()\n",
    "clf.fit(X_train, train_data['label'])\n",
    "pred = clf.predict(X_test)\n",
    "print('Accuracy: {}'.format(accuracy_score(pred, test_data['label'])))"
   ]
  },
  {
   "cell_type": "markdown",
   "metadata": {},
   "source": [
    "## 1.3 - Adding extra features"
   ]
  },
  {
   "cell_type": "code",
   "execution_count": 10,
   "metadata": {},
   "outputs": [],
   "source": [
    "nlp = spacy.load('en_core_web_sm')\n",
    "nlp.add_pipe(\"merge_entities\", after=\"ner\")\n",
    "en_stopwords = nlp.Defaults.stop_words"
   ]
  },
  {
   "cell_type": "markdown",
   "metadata": {},
   "source": [
    "#### Pre-processed"
   ]
  },
  {
   "cell_type": "code",
   "execution_count": 11,
   "metadata": {},
   "outputs": [],
   "source": [
    "tokenizer = WordPunctTokenizer()\n",
    "\n",
    "def remove_punctuation(text):\n",
    "    \"\"\"\n",
    "    Hint: Remember the good old RegEx from 2 LUs ago\n",
    "        how can I just remove everything except words, digits and spaces?\n",
    "    \"\"\"\n",
    "    text = re.sub(r'[^A-Za-z0-9\\s]','',text)\n",
    "    return text.lower()\n",
    "\n",
    "def remove_stopwords(text, stopwords):\n",
    "    \"\"\"\n",
    "    Hint: You may want to split the text into tokens using the tokenizer, it might help when searching for stopwords\n",
    "        If you do, do not forget to join the tokens afterwards!\n",
    "    \"\"\"\n",
    "    words = tokenizer.tokenize(text)\n",
    "    words = [word for word in words if word not in stopwords]\n",
    "    text_processed = ' '.join(words)\n",
    "    \n",
    "    # Return the full string again here\n",
    "    return text_processed\n",
    "\n",
    "def preprocess_text(df):\n",
    "    \n",
    "    df_processed = df.copy()\n",
    "    \n",
    "    df_processed[\"message\"] = df_processed[\"message\"].apply(remove_punctuation)\n",
    "    df_processed[\"message\"] = df_processed[\"message\"].apply(remove_stopwords, stopwords = en_stopwords)\n",
    "    \n",
    "    return df_processed"
   ]
  },
  {
   "cell_type": "code",
   "execution_count": 12,
   "metadata": {},
   "outputs": [
    {
     "data": {
      "text/html": [
       "<div>\n",
       "<style scoped>\n",
       "    .dataframe tbody tr th:only-of-type {\n",
       "        vertical-align: middle;\n",
       "    }\n",
       "\n",
       "    .dataframe tbody tr th {\n",
       "        vertical-align: top;\n",
       "    }\n",
       "\n",
       "    .dataframe thead th {\n",
       "        text-align: right;\n",
       "    }\n",
       "</style>\n",
       "<table border=\"1\" class=\"dataframe\">\n",
       "  <thead>\n",
       "    <tr style=\"text-align: right;\">\n",
       "      <th></th>\n",
       "      <th>label</th>\n",
       "      <th>message</th>\n",
       "    </tr>\n",
       "  </thead>\n",
       "  <tbody>\n",
       "    <tr>\n",
       "      <th>0</th>\n",
       "      <td>ham</td>\n",
       "      <td>jurong point crazy available bugis n great wor...</td>\n",
       "    </tr>\n",
       "    <tr>\n",
       "      <th>1</th>\n",
       "      <td>ham</td>\n",
       "      <td>ok lar joking wif u oni</td>\n",
       "    </tr>\n",
       "    <tr>\n",
       "      <th>2</th>\n",
       "      <td>spam</td>\n",
       "      <td>free entry 2 wkly comp win fa cup final tkts 2...</td>\n",
       "    </tr>\n",
       "    <tr>\n",
       "      <th>3</th>\n",
       "      <td>ham</td>\n",
       "      <td>u dun early hor u c</td>\n",
       "    </tr>\n",
       "    <tr>\n",
       "      <th>4</th>\n",
       "      <td>ham</td>\n",
       "      <td>nah dont think goes usf lives</td>\n",
       "    </tr>\n",
       "  </tbody>\n",
       "</table>\n",
       "</div>"
      ],
      "text/plain": [
       "  label                                            message\n",
       "0   ham  jurong point crazy available bugis n great wor...\n",
       "1   ham                            ok lar joking wif u oni\n",
       "2  spam  free entry 2 wkly comp win fa cup final tkts 2...\n",
       "3   ham                                u dun early hor u c\n",
       "4   ham                      nah dont think goes usf lives"
      ]
     },
     "execution_count": 12,
     "metadata": {},
     "output_type": "execute_result"
    }
   ],
   "source": [
    "df_processed = preprocess_text(df)\n",
    "df_processed.head()"
   ]
  },
  {
   "cell_type": "code",
   "execution_count": null,
   "metadata": {},
   "outputs": [],
   "source": []
  },
  {
   "cell_type": "markdown",
   "metadata": {},
   "source": [
    "#### POS-Tagging Search"
   ]
  },
  {
   "cell_type": "code",
   "execution_count": 13,
   "metadata": {},
   "outputs": [
    {
     "name": "stderr",
     "output_type": "stream",
     "text": [
      "100%|██████████| 5572/5572 [00:22<00:00, 242.35it/s]\n"
     ]
    },
    {
     "data": {
      "text/plain": [
       "[Go until jurong point, crazy.. Available only in bugis n great world la e buffet... Cine there got amore wat...,\n",
       " Ok lar... Joking wif u oni...,\n",
       " Free entry in 2 a wkly comp to win FA Cup final tkts 21st May 2005. Text FA to 87121 to receive entry question(std txt rate)T&C's apply 08452810075over18's]"
      ]
     },
     "execution_count": 13,
     "metadata": {},
     "output_type": "execute_result"
    }
   ],
   "source": [
    "# Let's get the text of the news article processed by SpaCy - This might take a while depending on \n",
    "#   your hardware (a break to walk the dog? 🐶)\n",
    "docs = list(tqdm(nlp.pipe(df[\"message\"], batch_size=20, n_process=cpu_count-1), total=len(df[\"message\"])))\n",
    "docs[:3]"
   ]
  },
  {
   "cell_type": "code",
   "execution_count": 24,
   "metadata": {},
   "outputs": [],
   "source": [
    "## Add adjectives and adverbs count\n",
    "matcher = Matcher(nlp.vocab)\n",
    "pattern = [[{'POS': 'ADJ'}], [{'POS': 'ADV'}]]\n",
    "matcher.add('LOC', pattern)\n",
    "\n",
    "\n",
    "nb_adj_adv = []\n",
    "for i, doc in enumerate(docs):\n",
    "    matches = matcher(doc)\n",
    "    count = 0\n",
    "    for match_id, start, end in matches:\n",
    "        span = doc[start:end]  # the matched span\n",
    "        count +=1\n",
    "    nb_adj_adv.append(count)\n",
    "    \n",
    "df_processed[\"nb_adj_adv\"] = nb_adj_adv"
   ]
  },
  {
   "cell_type": "markdown",
   "metadata": {},
   "source": [
    "#### Entity Search"
   ]
  },
  {
   "cell_type": "code",
   "execution_count": 15,
   "metadata": {},
   "outputs": [
    {
     "data": {
      "text/plain": [
       "[('Lol', 51),\n",
       " ('Haha', 46),\n",
       " ('Okie', 16),\n",
       " ('Babe', 14),\n",
       " ('Nah', 9),\n",
       " ('S. I. M.', 9),\n",
       " ('Yar', 8),\n",
       " ('Pete', 7),\n",
       " ('jay', 7),\n",
       " ('Croydon CR9', 7)]"
      ]
     },
     "execution_count": 15,
     "metadata": {},
     "output_type": "execute_result"
    }
   ],
   "source": [
    "## the 10 most common Names\n",
    "matcher = Matcher(nlp.vocab)\n",
    "persons = []\n",
    "\n",
    "# for doc in docs:\n",
    "# do matches and save the text in a list\n",
    "for i, doc in enumerate(docs):\n",
    "    persons = persons + [e.text for e in doc.ents if e.label_ == 'PERSON']\n",
    "\n",
    "# count the number of times the same Person appears on the list (hint: remember the dictionary solution...)\n",
    "# only take the top 10 of the counter! THE RESULT SHOULD BE A LIST\n",
    "most_common_ents = []\n",
    "for person in set(persons):\n",
    "    most_common_ents.append((person, persons.count(person)))\n",
    "    \n",
    "most_common_ents.sort(key=lambda y: y[1], reverse=True)\n",
    "most_common_ents = most_common_ents[0:10]\n",
    "most_common_ents"
   ]
  },
  {
   "cell_type": "code",
   "execution_count": 16,
   "metadata": {},
   "outputs": [
    {
     "name": "stdout",
     "output_type": "stream",
     "text": [
      "Lol\n",
      "ham    59\n",
      "Name: label, dtype: int64\n",
      "\n",
      "Haha\n",
      "ham    50\n",
      "Name: label, dtype: int64\n",
      "\n",
      "Okie\n",
      "ham    17\n",
      "Name: label, dtype: int64\n",
      "\n",
      "Babe\n",
      "ham     14\n",
      "spam     6\n",
      "Name: label, dtype: int64\n",
      "\n",
      "Nah\n",
      "ham    10\n",
      "Name: label, dtype: int64\n",
      "\n",
      "S. I. M.\n",
      "spam    9\n",
      "Name: label, dtype: int64\n",
      "\n",
      "Yar\n",
      "ham    13\n",
      "Name: label, dtype: int64\n",
      "\n",
      "Pete\n",
      "ham     10\n",
      "spam     1\n",
      "Name: label, dtype: int64\n",
      "\n",
      "jay\n",
      "ham    14\n",
      "Name: label, dtype: int64\n",
      "\n",
      "Croydon CR9\n",
      "spam    7\n",
      "Name: label, dtype: int64\n",
      "\n"
     ]
    }
   ],
   "source": [
    "for person, _ in most_common_ents:\n",
    "    print(person)\n",
    "    print(df[df['message'].str.contains(person)].label.value_counts())\n",
    "    print()"
   ]
  },
  {
   "cell_type": "code",
   "execution_count": 17,
   "metadata": {},
   "outputs": [],
   "source": [
    "# For analyze. For a specific name it maybe good the create an extra feature"
   ]
  },
  {
   "cell_type": "markdown",
   "metadata": {},
   "source": [
    "### Features Unions"
   ]
  },
  {
   "cell_type": "code",
   "execution_count": 18,
   "metadata": {},
   "outputs": [],
   "source": [
    "class Selector(BaseEstimator, TransformerMixin):\n",
    "    \"\"\"\n",
    "    Transformer to select a column from the dataframe to perform additional transformations on\n",
    "    \"\"\" \n",
    "    def __init__(self, key):\n",
    "        self.key = key\n",
    "        \n",
    "    def fit(self, X, y=None):\n",
    "        return self\n",
    "    \n",
    "\n",
    "class TextSelector(Selector):\n",
    "    \"\"\"\n",
    "    Transformer to select a single column from the data frame to perform additional transformations on\n",
    "    Use on text columns in the data\n",
    "    \"\"\"\n",
    "    def transform(self, X):\n",
    "        return X[self.key]\n",
    "    \n",
    "    \n",
    "class NumberSelector(Selector):\n",
    "    \"\"\"\n",
    "    Transformer to select a single column from the data frame to perform additional transformations on\n",
    "    Use on numeric columns in the data\n",
    "    \"\"\"\n",
    "    def transform(self, X):\n",
    "        return X[[self.key]]\n",
    "    \n",
    "    "
   ]
  },
  {
   "cell_type": "markdown",
   "metadata": {},
   "source": [
    "#### EXTRA FEATURES"
   ]
  },
  {
   "cell_type": "code",
   "execution_count": 19,
   "metadata": {},
   "outputs": [],
   "source": [
    "df_processed[\"nb_words\"] = df_processed['message'].str.split().map(len)\n",
    "df_processed[\"doc_length\"] = df_processed['message'].map(len)\n",
    "df_processed[\"avg_word_length\"] = df_processed['message'].apply(lambda x: np.mean([len(t) for t in x.split()]) if len([len(t) for t in x.split(' ')]) > 0 else 0).fillna(0)"
   ]
  },
  {
   "cell_type": "code",
   "execution_count": 20,
   "metadata": {},
   "outputs": [
    {
     "data": {
      "text/html": [
       "<div>\n",
       "<style scoped>\n",
       "    .dataframe tbody tr th:only-of-type {\n",
       "        vertical-align: middle;\n",
       "    }\n",
       "\n",
       "    .dataframe tbody tr th {\n",
       "        vertical-align: top;\n",
       "    }\n",
       "\n",
       "    .dataframe thead th {\n",
       "        text-align: right;\n",
       "    }\n",
       "</style>\n",
       "<table border=\"1\" class=\"dataframe\">\n",
       "  <thead>\n",
       "    <tr style=\"text-align: right;\">\n",
       "      <th></th>\n",
       "      <th>label</th>\n",
       "      <th>message</th>\n",
       "      <th>nb_adj_adv</th>\n",
       "      <th>nb_words</th>\n",
       "      <th>doc_length</th>\n",
       "      <th>avg_word_length</th>\n",
       "    </tr>\n",
       "  </thead>\n",
       "  <tbody>\n",
       "    <tr>\n",
       "      <th>0</th>\n",
       "      <td>ham</td>\n",
       "      <td>jurong point crazy available bugis n great wor...</td>\n",
       "      <td>7</td>\n",
       "      <td>15</td>\n",
       "      <td>79</td>\n",
       "      <td>4.333333</td>\n",
       "    </tr>\n",
       "    <tr>\n",
       "      <th>1</th>\n",
       "      <td>ham</td>\n",
       "      <td>ok lar joking wif u oni</td>\n",
       "      <td>0</td>\n",
       "      <td>6</td>\n",
       "      <td>23</td>\n",
       "      <td>3.000000</td>\n",
       "    </tr>\n",
       "    <tr>\n",
       "      <th>2</th>\n",
       "      <td>spam</td>\n",
       "      <td>free entry 2 wkly comp win fa cup final tkts 2...</td>\n",
       "      <td>4</td>\n",
       "      <td>22</td>\n",
       "      <td>131</td>\n",
       "      <td>5.000000</td>\n",
       "    </tr>\n",
       "    <tr>\n",
       "      <th>3</th>\n",
       "      <td>ham</td>\n",
       "      <td>u dun early hor u c</td>\n",
       "      <td>4</td>\n",
       "      <td>6</td>\n",
       "      <td>19</td>\n",
       "      <td>2.333333</td>\n",
       "    </tr>\n",
       "    <tr>\n",
       "      <th>4</th>\n",
       "      <td>ham</td>\n",
       "      <td>nah dont think goes usf lives</td>\n",
       "      <td>2</td>\n",
       "      <td>6</td>\n",
       "      <td>29</td>\n",
       "      <td>4.000000</td>\n",
       "    </tr>\n",
       "  </tbody>\n",
       "</table>\n",
       "</div>"
      ],
      "text/plain": [
       "  label                                            message  nb_adj_adv  \\\n",
       "0   ham  jurong point crazy available bugis n great wor...           7   \n",
       "1   ham                            ok lar joking wif u oni           0   \n",
       "2  spam  free entry 2 wkly comp win fa cup final tkts 2...           4   \n",
       "3   ham                                u dun early hor u c           4   \n",
       "4   ham                      nah dont think goes usf lives           2   \n",
       "\n",
       "   nb_words  doc_length  avg_word_length  \n",
       "0        15          79         4.333333  \n",
       "1         6          23         3.000000  \n",
       "2        22         131         5.000000  \n",
       "3         6          19         2.333333  \n",
       "4         6          29         4.000000  "
      ]
     },
     "execution_count": 20,
     "metadata": {},
     "output_type": "execute_result"
    }
   ],
   "source": [
    "df_processed.head()"
   ]
  },
  {
   "cell_type": "code",
   "execution_count": 21,
   "metadata": {},
   "outputs": [],
   "source": [
    "text_pipe = Pipeline([\n",
    "                ('selector', TextSelector(\"message\")),\n",
    "                ('tfidf', TfidfVectorizer())\n",
    "            ])\n",
    "\n",
    "nb_adj_adv_pipe =  Pipeline([\n",
    "                ('selector', NumberSelector(key='nb_adj_adv')),\n",
    "                ('standard', StandardScaler())\n",
    "            ])\n",
    "\n",
    "nb_words_pipe =  Pipeline([\n",
    "                ('selector', NumberSelector(key='nb_words')),\n",
    "                ('standard', StandardScaler())\n",
    "            ])\n",
    "\n",
    "doc_length_pipe =  Pipeline([\n",
    "                ('selector', NumberSelector(key='doc_length')),\n",
    "                ('standard', StandardScaler())\n",
    "            ])\n",
    "\n",
    "avg_word_length_pipe =  Pipeline([\n",
    "                ('selector', NumberSelector(key='avg_word_length')),\n",
    "                ('standard', StandardScaler())\n",
    "            ])\n",
    "\n",
    "feats = FeatureUnion([('text', text_pipe), \n",
    "                      ('nb_adj_adv', nb_adj_adv_pipe),\n",
    "                      ('nb_words', nb_words_pipe),\n",
    "                      ('doc_length', doc_length_pipe),\n",
    "                      ('avg_word_length', avg_word_length_pipe)])\n",
    "\n",
    "feature_processing = Pipeline([('feats', feats)])"
   ]
  },
  {
   "cell_type": "code",
   "execution_count": 22,
   "metadata": {},
   "outputs": [],
   "source": [
    "def improved_pipeline(feats, X_train, X_test, y_train, y_test):\n",
    "    \"\"\"\n",
    "    Train a Random Forest using sklearn's Pipeline and return the trained model and its accuracy in the test set.\n",
    "    Don't forget to add the feats to the Pipeline!\n",
    "    \"\"\"\n",
    "    \n",
    "    pipe = Pipeline([\n",
    "        ('features',feats),\n",
    "        ('classifier', RandomForestClassifier()),\n",
    "    ])\n",
    "\n",
    "    print(y_train)\n",
    "    \n",
    "    pipe.fit(X_train, y_train)\n",
    "\n",
    "    preds = pipe.predict(X_test)\n",
    "    acc = np.mean(preds == y_test)\n",
    "    \n",
    "    return pipe, acc, preds"
   ]
  },
  {
   "cell_type": "code",
   "execution_count": 23,
   "metadata": {},
   "outputs": [
    {
     "name": "stdout",
     "output_type": "stream",
     "text": [
      "184      ham\n",
      "2171     ham\n",
      "5422     ham\n",
      "4113     ham\n",
      "4588     ham\n",
      "        ... \n",
      "1932     ham\n",
      "5316     ham\n",
      "2308    spam\n",
      "1903    spam\n",
      "763      ham\n",
      "Name: label, Length: 4457, dtype: object\n"
     ]
    },
    {
     "data": {
      "text/plain": [
       "0.9757847533632287"
      ]
     },
     "execution_count": 23,
     "metadata": {},
     "output_type": "execute_result"
    }
   ],
   "source": [
    "Y = df_processed[\"label\"]\n",
    "X = df_processed.drop(columns=\"label\")\n",
    "\n",
    "X_train, X_test, y_train, y_test = train_test_split(X, Y, test_size=0.2, random_state=42, stratify=Y)\n",
    "pipeline_model, pipeline_acc, pipeline_prediction = improved_pipeline(feats, X_train, X_test, y_train, y_test)\n",
    "\n",
    "pipeline_acc"
   ]
  },
  {
   "cell_type": "code",
   "execution_count": null,
   "metadata": {},
   "outputs": [],
   "source": []
  },
  {
   "cell_type": "code",
   "execution_count": null,
   "metadata": {},
   "outputs": [],
   "source": []
  }
 ],
 "metadata": {
  "kernelspec": {
   "display_name": "Python 3 (ipykernel)",
   "language": "python",
   "name": "python3"
  },
  "language_info": {
   "codemirror_mode": {
    "name": "ipython",
    "version": 3
   },
   "file_extension": ".py",
   "mimetype": "text/x-python",
   "name": "python",
   "nbconvert_exporter": "python",
   "pygments_lexer": "ipython3",
   "version": "3.7.12"
  }
 },
 "nbformat": 4,
 "nbformat_minor": 2
}
