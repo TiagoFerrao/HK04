{
 "cells": [
  {
   "cell_type": "code",
   "execution_count": 193,
   "id": "15262f86",
   "metadata": {},
   "outputs": [],
   "source": [
    "import pandas as pd\n",
    "\n",
    "from sklearn.feature_extraction.text import CountVectorizer, TfidfVectorizer\n",
    "from sklearn.model_selection import train_test_split\n",
    "from sklearn.metrics import accuracy_score\n",
    "from sklearn.decomposition import TruncatedSVD\n",
    "\n",
    "import numpy as np\n",
    "import re\n",
    "import string\n",
    "import nltk\n",
    "\n",
    "from wordcloud import WordCloud, STOPWORDS\n",
    "import matplotlib as mpl\n",
    "import matplotlib.pyplot as plt\n",
    "\n",
    "import seaborn as sns\n",
    "\n",
    "from sklearn.ensemble import RandomForestClassifier"
   ]
  },
  {
   "cell_type": "code",
   "execution_count": 45,
   "id": "e4a0c826",
   "metadata": {},
   "outputs": [
    {
     "name": "stdout",
     "output_type": "stream",
     "text": [
      "(49992, 9)\n"
     ]
    },
    {
     "data": {
      "text/html": [
       "<div>\n",
       "<style scoped>\n",
       "    .dataframe tbody tr th:only-of-type {\n",
       "        vertical-align: middle;\n",
       "    }\n",
       "\n",
       "    .dataframe tbody tr th {\n",
       "        vertical-align: top;\n",
       "    }\n",
       "\n",
       "    .dataframe thead th {\n",
       "        text-align: right;\n",
       "    }\n",
       "</style>\n",
       "<table border=\"1\" class=\"dataframe\">\n",
       "  <thead>\n",
       "    <tr style=\"text-align: right;\">\n",
       "      <th></th>\n",
       "      <th>reviewerID</th>\n",
       "      <th>reviewerName</th>\n",
       "      <th>reviewText</th>\n",
       "      <th>summary</th>\n",
       "      <th>reviewTime</th>\n",
       "      <th>rates_count</th>\n",
       "      <th>helpful_count</th>\n",
       "      <th>rating</th>\n",
       "    </tr>\n",
       "  </thead>\n",
       "  <tbody>\n",
       "    <tr>\n",
       "      <th>0</th>\n",
       "      <td>A3UPFTGAWZ3G2R</td>\n",
       "      <td>David J. Loftus</td>\n",
       "      <td>Jenkins, a history professor and Member of Par...</td>\n",
       "      <td>Quite readable, nicely done</td>\n",
       "      <td>12 6, 2001</td>\n",
       "      <td>40</td>\n",
       "      <td>37</td>\n",
       "      <td>4</td>\n",
       "    </tr>\n",
       "    <tr>\n",
       "      <th>1</th>\n",
       "      <td>A1XTKTLNSCRLDS</td>\n",
       "      <td>Ellen Rappaport</td>\n",
       "      <td>Detective Inspector Erlendur Sveinsson is at h...</td>\n",
       "      <td>Mesmerizing in depth</td>\n",
       "      <td>02 23, 2014</td>\n",
       "      <td>0</td>\n",
       "      <td>0</td>\n",
       "      <td>5</td>\n",
       "    </tr>\n",
       "    <tr>\n",
       "      <th>2</th>\n",
       "      <td>A1A77B6DQQH436</td>\n",
       "      <td>crescamp \"esc\"</td>\n",
       "      <td>I didn't read this.  I purchased it for a gift...</td>\n",
       "      <td>10-minute life lessons for kids</td>\n",
       "      <td>02 12, 2013</td>\n",
       "      <td>3</td>\n",
       "      <td>0</td>\n",
       "      <td>3</td>\n",
       "    </tr>\n",
       "    <tr>\n",
       "      <th>3</th>\n",
       "      <td>AEAF4MRYHJZI</td>\n",
       "      <td>Angelia Menchan \"acvermen.blogspot.com\"</td>\n",
       "      <td>Fierce Angels by Sheri Park reads like a disse...</td>\n",
       "      <td>So FIERCE</td>\n",
       "      <td>03 24, 2010</td>\n",
       "      <td>9</td>\n",
       "      <td>9</td>\n",
       "      <td>4</td>\n",
       "    </tr>\n",
       "    <tr>\n",
       "      <th>4</th>\n",
       "      <td>A3B7KU72LGWFER</td>\n",
       "      <td>Grifel \"Tea Time\"</td>\n",
       "      <td>Clearly this author had two goals in mind: 1) ...</td>\n",
       "      <td>Drivel!</td>\n",
       "      <td>06 21, 2003</td>\n",
       "      <td>19</td>\n",
       "      <td>13</td>\n",
       "      <td>1</td>\n",
       "    </tr>\n",
       "    <tr>\n",
       "      <th>5</th>\n",
       "      <td>A3JD07VHDLT5FF</td>\n",
       "      <td>isala \"Isabel and Lars\"</td>\n",
       "      <td>This is a collection of stories and memories b...</td>\n",
       "      <td>Compelling stories by ordinary people</td>\n",
       "      <td>03 19, 2005</td>\n",
       "      <td>7</td>\n",
       "      <td>5</td>\n",
       "      <td>5</td>\n",
       "    </tr>\n",
       "    <tr>\n",
       "      <th>6</th>\n",
       "      <td>A1JBVAMC9YU0WD</td>\n",
       "      <td>ED</td>\n",
       "      <td>I am so glad I borrowed this 'book' from the l...</td>\n",
       "      <td>this 'cheese' stinks</td>\n",
       "      <td>09 25, 2000</td>\n",
       "      <td>6</td>\n",
       "      <td>5</td>\n",
       "      <td>1</td>\n",
       "    </tr>\n",
       "    <tr>\n",
       "      <th>7</th>\n",
       "      <td>A1O7OXC13G9X3E</td>\n",
       "      <td>kayp75 \"kayp75\"</td>\n",
       "      <td>Really enjoyable, couldn't put it down. The ch...</td>\n",
       "      <td>great read</td>\n",
       "      <td>10 21, 2013</td>\n",
       "      <td>0</td>\n",
       "      <td>0</td>\n",
       "      <td>5</td>\n",
       "    </tr>\n",
       "    <tr>\n",
       "      <th>8</th>\n",
       "      <td>A1RAUVCWYHTQI4</td>\n",
       "      <td>A. Ross</td>\n",
       "      <td>I don't read a lot of science-fiction (maybe f...</td>\n",
       "      <td>Lots of Good Elements Fail to Add Up to an Eng...</td>\n",
       "      <td>08 4, 2010</td>\n",
       "      <td>3</td>\n",
       "      <td>2</td>\n",
       "      <td>3</td>\n",
       "    </tr>\n",
       "    <tr>\n",
       "      <th>9</th>\n",
       "      <td>A3PZTH1DTX6O6B</td>\n",
       "      <td>H. F. Gibbard \"History Buff\"</td>\n",
       "      <td>Legendary pornographer Larry Flynt teamed up w...</td>\n",
       "      <td>fun but occasionally debatable history of pres...</td>\n",
       "      <td>06 11, 2011</td>\n",
       "      <td>5</td>\n",
       "      <td>4</td>\n",
       "      <td>4</td>\n",
       "    </tr>\n",
       "  </tbody>\n",
       "</table>\n",
       "</div>"
      ],
      "text/plain": [
       "       reviewerID                             reviewerName  \\\n",
       "0  A3UPFTGAWZ3G2R                          David J. Loftus   \n",
       "1  A1XTKTLNSCRLDS                          Ellen Rappaport   \n",
       "2  A1A77B6DQQH436                           crescamp \"esc\"   \n",
       "3    AEAF4MRYHJZI  Angelia Menchan \"acvermen.blogspot.com\"   \n",
       "4  A3B7KU72LGWFER                        Grifel \"Tea Time\"   \n",
       "5  A3JD07VHDLT5FF                  isala \"Isabel and Lars\"   \n",
       "6  A1JBVAMC9YU0WD                                       ED   \n",
       "7  A1O7OXC13G9X3E                          kayp75 \"kayp75\"   \n",
       "8  A1RAUVCWYHTQI4                                  A. Ross   \n",
       "9  A3PZTH1DTX6O6B             H. F. Gibbard \"History Buff\"   \n",
       "\n",
       "                                          reviewText  \\\n",
       "0  Jenkins, a history professor and Member of Par...   \n",
       "1  Detective Inspector Erlendur Sveinsson is at h...   \n",
       "2  I didn't read this.  I purchased it for a gift...   \n",
       "3  Fierce Angels by Sheri Park reads like a disse...   \n",
       "4  Clearly this author had two goals in mind: 1) ...   \n",
       "5  This is a collection of stories and memories b...   \n",
       "6  I am so glad I borrowed this 'book' from the l...   \n",
       "7  Really enjoyable, couldn't put it down. The ch...   \n",
       "8  I don't read a lot of science-fiction (maybe f...   \n",
       "9  Legendary pornographer Larry Flynt teamed up w...   \n",
       "\n",
       "                                             summary   reviewTime  \\\n",
       "0                        Quite readable, nicely done   12 6, 2001   \n",
       "1                               Mesmerizing in depth  02 23, 2014   \n",
       "2                    10-minute life lessons for kids  02 12, 2013   \n",
       "3                                          So FIERCE  03 24, 2010   \n",
       "4                                            Drivel!  06 21, 2003   \n",
       "5              Compelling stories by ordinary people  03 19, 2005   \n",
       "6                               this 'cheese' stinks  09 25, 2000   \n",
       "7                                         great read  10 21, 2013   \n",
       "8  Lots of Good Elements Fail to Add Up to an Eng...   08 4, 2010   \n",
       "9  fun but occasionally debatable history of pres...  06 11, 2011   \n",
       "\n",
       "   rates_count  helpful_count  rating  \n",
       "0           40             37       4  \n",
       "1            0              0       5  \n",
       "2            3              0       3  \n",
       "3            9              9       4  \n",
       "4           19             13       1  \n",
       "5            7              5       5  \n",
       "6            6              5       1  \n",
       "7            0              0       5  \n",
       "8            3              2       3  \n",
       "9            5              4       4  "
      ]
     },
     "execution_count": 45,
     "metadata": {},
     "output_type": "execute_result"
    }
   ],
   "source": [
    "train_df = pd.read_csv('data/book_review_labelled_data.csv')\n",
    "print(train_df.shape)\n",
    "train_df = train_df.drop('overall', axis=1)\n",
    "train_df.head(10)"
   ]
  },
  {
   "cell_type": "code",
   "execution_count": 46,
   "id": "3bdf6846",
   "metadata": {},
   "outputs": [
    {
     "name": "stdout",
     "output_type": "stream",
     "text": [
      "(2000, 6)\n"
     ]
    },
    {
     "data": {
      "text/html": [
       "<div>\n",
       "<style scoped>\n",
       "    .dataframe tbody tr th:only-of-type {\n",
       "        vertical-align: middle;\n",
       "    }\n",
       "\n",
       "    .dataframe tbody tr th {\n",
       "        vertical-align: top;\n",
       "    }\n",
       "\n",
       "    .dataframe thead th {\n",
       "        text-align: right;\n",
       "    }\n",
       "</style>\n",
       "<table border=\"1\" class=\"dataframe\">\n",
       "  <thead>\n",
       "    <tr style=\"text-align: right;\">\n",
       "      <th></th>\n",
       "      <th>reviewerID</th>\n",
       "      <th>reviewerName</th>\n",
       "      <th>reviewText</th>\n",
       "      <th>summary</th>\n",
       "      <th>reviewTime</th>\n",
       "      <th>rating</th>\n",
       "    </tr>\n",
       "  </thead>\n",
       "  <tbody>\n",
       "    <tr>\n",
       "      <th>0</th>\n",
       "      <td>A2HESNQJZ9OB7H</td>\n",
       "      <td>Jen</td>\n",
       "      <td>So boring and stupid had a hard time finishing...</td>\n",
       "      <td>Unbelievable.</td>\n",
       "      <td>02 16, 2014</td>\n",
       "      <td>1</td>\n",
       "    </tr>\n",
       "    <tr>\n",
       "      <th>1</th>\n",
       "      <td>A1ABXPSFA9PC8N</td>\n",
       "      <td>Ben Parker</td>\n",
       "      <td>Ill be the first to admit i'm not the best coo...</td>\n",
       "      <td>Easy and Clear Cooking</td>\n",
       "      <td>11 7, 2012</td>\n",
       "      <td>5</td>\n",
       "    </tr>\n",
       "    <tr>\n",
       "      <th>2</th>\n",
       "      <td>AYVW3O6W8S5S4</td>\n",
       "      <td>Johnny in Texas</td>\n",
       "      <td>Doesn't tell you how to do anything...  just s...</td>\n",
       "      <td>not bad</td>\n",
       "      <td>02 25, 2014</td>\n",
       "      <td>3</td>\n",
       "    </tr>\n",
       "    <tr>\n",
       "      <th>3</th>\n",
       "      <td>A17GOTFSUAWN17</td>\n",
       "      <td>Tyson</td>\n",
       "      <td>Whenever I met my last two girlfriends in pers...</td>\n",
       "      <td>Short book, but good primer on how to text girls</td>\n",
       "      <td>03 15, 2014</td>\n",
       "      <td>4</td>\n",
       "    </tr>\n",
       "    <tr>\n",
       "      <th>4</th>\n",
       "      <td>A2VO8K861AV83R</td>\n",
       "      <td>Avatheps \"Avatheps\"</td>\n",
       "      <td>I read the reviews and decided to take a chanc...</td>\n",
       "      <td>Very disappointing. I could not finish it.</td>\n",
       "      <td>12 30, 2013</td>\n",
       "      <td>2</td>\n",
       "    </tr>\n",
       "    <tr>\n",
       "      <th>5</th>\n",
       "      <td>A60C622DQ0QNU</td>\n",
       "      <td>Eric Lass</td>\n",
       "      <td>This book is packed with some great tips on de...</td>\n",
       "      <td>Very Useful and Some Great Tips</td>\n",
       "      <td>10 8, 2012</td>\n",
       "      <td>4</td>\n",
       "    </tr>\n",
       "    <tr>\n",
       "      <th>6</th>\n",
       "      <td>A1ULRFNOXE2I08</td>\n",
       "      <td>Kathy</td>\n",
       "      <td>Thought this was a great read, but a little sh...</td>\n",
       "      <td>Kathy</td>\n",
       "      <td>03 17, 2013</td>\n",
       "      <td>4</td>\n",
       "    </tr>\n",
       "    <tr>\n",
       "      <th>7</th>\n",
       "      <td>A31MN9X90I4SB6</td>\n",
       "      <td>Jacqueline R Walton \"Jacqueline R. Walton\"</td>\n",
       "      <td>I am sorry but I was bored with this book. I c...</td>\n",
       "      <td>Couldn't Finish</td>\n",
       "      <td>10 10, 2013</td>\n",
       "      <td>1</td>\n",
       "    </tr>\n",
       "    <tr>\n",
       "      <th>8</th>\n",
       "      <td>A3BLT4A2WSSK6M</td>\n",
       "      <td>Barry Melius</td>\n",
       "      <td>I don't read to stimulate my mind but to relax...</td>\n",
       "      <td>Good Hearted Romp</td>\n",
       "      <td>12 1, 2012</td>\n",
       "      <td>4</td>\n",
       "    </tr>\n",
       "    <tr>\n",
       "      <th>9</th>\n",
       "      <td>A313BU9OG6ZVPD</td>\n",
       "      <td>Patricia \"pstub\"</td>\n",
       "      <td>I tried to get into this book but just couldn'...</td>\n",
       "      <td>Nope</td>\n",
       "      <td>05 3, 2014</td>\n",
       "      <td>1</td>\n",
       "    </tr>\n",
       "  </tbody>\n",
       "</table>\n",
       "</div>"
      ],
      "text/plain": [
       "       reviewerID                                reviewerName  \\\n",
       "0  A2HESNQJZ9OB7H                                         Jen   \n",
       "1  A1ABXPSFA9PC8N                                  Ben Parker   \n",
       "2   AYVW3O6W8S5S4                             Johnny in Texas   \n",
       "3  A17GOTFSUAWN17                                       Tyson   \n",
       "4  A2VO8K861AV83R                         Avatheps \"Avatheps\"   \n",
       "5   A60C622DQ0QNU                                   Eric Lass   \n",
       "6  A1ULRFNOXE2I08                                       Kathy   \n",
       "7  A31MN9X90I4SB6  Jacqueline R Walton \"Jacqueline R. Walton\"   \n",
       "8  A3BLT4A2WSSK6M                                Barry Melius   \n",
       "9  A313BU9OG6ZVPD                            Patricia \"pstub\"   \n",
       "\n",
       "                                          reviewText  \\\n",
       "0  So boring and stupid had a hard time finishing...   \n",
       "1  Ill be the first to admit i'm not the best coo...   \n",
       "2  Doesn't tell you how to do anything...  just s...   \n",
       "3  Whenever I met my last two girlfriends in pers...   \n",
       "4  I read the reviews and decided to take a chanc...   \n",
       "5  This book is packed with some great tips on de...   \n",
       "6  Thought this was a great read, but a little sh...   \n",
       "7  I am sorry but I was bored with this book. I c...   \n",
       "8  I don't read to stimulate my mind but to relax...   \n",
       "9  I tried to get into this book but just couldn'...   \n",
       "\n",
       "                                            summary   reviewTime  rating  \n",
       "0                                     Unbelievable.  02 16, 2014       1  \n",
       "1                            Easy and Clear Cooking   11 7, 2012       5  \n",
       "2                                           not bad  02 25, 2014       3  \n",
       "3  Short book, but good primer on how to text girls  03 15, 2014       4  \n",
       "4        Very disappointing. I could not finish it.  12 30, 2013       2  \n",
       "5                   Very Useful and Some Great Tips   10 8, 2012       4  \n",
       "6                                             Kathy  03 17, 2013       4  \n",
       "7                                   Couldn't Finish  10 10, 2013       1  \n",
       "8                                 Good Hearted Romp   12 1, 2012       4  \n",
       "9                                              Nope   05 3, 2014       1  "
      ]
     },
     "execution_count": 46,
     "metadata": {},
     "output_type": "execute_result"
    }
   ],
   "source": [
    "test_df = pd.read_csv('data/book_review_test_data_unlabelled.csv')\n",
    "print(test_df.shape)\n",
    "test_df.head(10)"
   ]
  },
  {
   "cell_type": "code",
   "execution_count": 47,
   "id": "43221d37",
   "metadata": {},
   "outputs": [
    {
     "name": "stdout",
     "output_type": "stream",
     "text": [
      "(49992, 9)\n",
      "(28423, 9)\n"
     ]
    }
   ],
   "source": [
    "train_df['useful_criteria'] = train_df['helpful_count']/train_df['rates_count']\n",
    "print(train_df.shape)\n",
    "train_df = train_df.dropna()\n",
    "print(train_df.shape)"
   ]
  },
  {
   "cell_type": "code",
   "execution_count": 48,
   "id": "891893c1",
   "metadata": {},
   "outputs": [],
   "source": [
    "train_df['label_aux'] = train_df['useful_criteria'].apply(lambda x: 'true' if x >= 1 else 'false')"
   ]
  },
  {
   "cell_type": "code",
   "execution_count": 6,
   "id": "802ce7a0",
   "metadata": {},
   "outputs": [
    {
     "data": {
      "text/html": [
       "<div>\n",
       "<style scoped>\n",
       "    .dataframe tbody tr th:only-of-type {\n",
       "        vertical-align: middle;\n",
       "    }\n",
       "\n",
       "    .dataframe tbody tr th {\n",
       "        vertical-align: top;\n",
       "    }\n",
       "\n",
       "    .dataframe thead th {\n",
       "        text-align: right;\n",
       "    }\n",
       "</style>\n",
       "<table border=\"1\" class=\"dataframe\">\n",
       "  <thead>\n",
       "    <tr style=\"text-align: right;\">\n",
       "      <th></th>\n",
       "      <th>reviewerID</th>\n",
       "      <th>reviewerName</th>\n",
       "      <th>reviewText</th>\n",
       "      <th>summary</th>\n",
       "      <th>reviewTime</th>\n",
       "      <th>rates_count</th>\n",
       "      <th>helpful_count</th>\n",
       "      <th>rating</th>\n",
       "      <th>useful_criteria</th>\n",
       "      <th>label_aux</th>\n",
       "    </tr>\n",
       "  </thead>\n",
       "  <tbody>\n",
       "    <tr>\n",
       "      <th>0</th>\n",
       "      <td>A3UPFTGAWZ3G2R</td>\n",
       "      <td>David J. Loftus</td>\n",
       "      <td>Jenkins, a history professor and Member of Par...</td>\n",
       "      <td>Quite readable, nicely done</td>\n",
       "      <td>12 6, 2001</td>\n",
       "      <td>40</td>\n",
       "      <td>37</td>\n",
       "      <td>4</td>\n",
       "      <td>0.925000</td>\n",
       "      <td>false</td>\n",
       "    </tr>\n",
       "    <tr>\n",
       "      <th>1</th>\n",
       "      <td>A1XTKTLNSCRLDS</td>\n",
       "      <td>Ellen Rappaport</td>\n",
       "      <td>Detective Inspector Erlendur Sveinsson is at h...</td>\n",
       "      <td>Mesmerizing in depth</td>\n",
       "      <td>02 23, 2014</td>\n",
       "      <td>0</td>\n",
       "      <td>0</td>\n",
       "      <td>5</td>\n",
       "      <td>NaN</td>\n",
       "      <td>false</td>\n",
       "    </tr>\n",
       "    <tr>\n",
       "      <th>2</th>\n",
       "      <td>A1A77B6DQQH436</td>\n",
       "      <td>crescamp \"esc\"</td>\n",
       "      <td>I didn't read this.  I purchased it for a gift...</td>\n",
       "      <td>10-minute life lessons for kids</td>\n",
       "      <td>02 12, 2013</td>\n",
       "      <td>3</td>\n",
       "      <td>0</td>\n",
       "      <td>3</td>\n",
       "      <td>0.000000</td>\n",
       "      <td>false</td>\n",
       "    </tr>\n",
       "    <tr>\n",
       "      <th>3</th>\n",
       "      <td>AEAF4MRYHJZI</td>\n",
       "      <td>Angelia Menchan \"acvermen.blogspot.com\"</td>\n",
       "      <td>Fierce Angels by Sheri Park reads like a disse...</td>\n",
       "      <td>So FIERCE</td>\n",
       "      <td>03 24, 2010</td>\n",
       "      <td>9</td>\n",
       "      <td>9</td>\n",
       "      <td>4</td>\n",
       "      <td>1.000000</td>\n",
       "      <td>true</td>\n",
       "    </tr>\n",
       "    <tr>\n",
       "      <th>4</th>\n",
       "      <td>A3B7KU72LGWFER</td>\n",
       "      <td>Grifel \"Tea Time\"</td>\n",
       "      <td>Clearly this author had two goals in mind: 1) ...</td>\n",
       "      <td>Drivel!</td>\n",
       "      <td>06 21, 2003</td>\n",
       "      <td>19</td>\n",
       "      <td>13</td>\n",
       "      <td>1</td>\n",
       "      <td>0.684211</td>\n",
       "      <td>false</td>\n",
       "    </tr>\n",
       "  </tbody>\n",
       "</table>\n",
       "</div>"
      ],
      "text/plain": [
       "       reviewerID                             reviewerName  \\\n",
       "0  A3UPFTGAWZ3G2R                          David J. Loftus   \n",
       "1  A1XTKTLNSCRLDS                          Ellen Rappaport   \n",
       "2  A1A77B6DQQH436                           crescamp \"esc\"   \n",
       "3    AEAF4MRYHJZI  Angelia Menchan \"acvermen.blogspot.com\"   \n",
       "4  A3B7KU72LGWFER                        Grifel \"Tea Time\"   \n",
       "\n",
       "                                          reviewText  \\\n",
       "0  Jenkins, a history professor and Member of Par...   \n",
       "1  Detective Inspector Erlendur Sveinsson is at h...   \n",
       "2  I didn't read this.  I purchased it for a gift...   \n",
       "3  Fierce Angels by Sheri Park reads like a disse...   \n",
       "4  Clearly this author had two goals in mind: 1) ...   \n",
       "\n",
       "                           summary   reviewTime  rates_count  helpful_count  \\\n",
       "0      Quite readable, nicely done   12 6, 2001           40             37   \n",
       "1             Mesmerizing in depth  02 23, 2014            0              0   \n",
       "2  10-minute life lessons for kids  02 12, 2013            3              0   \n",
       "3                        So FIERCE  03 24, 2010            9              9   \n",
       "4                          Drivel!  06 21, 2003           19             13   \n",
       "\n",
       "   rating  useful_criteria label_aux  \n",
       "0       4         0.925000     false  \n",
       "1       5              NaN     false  \n",
       "2       3         0.000000     false  \n",
       "3       4         1.000000      true  \n",
       "4       1         0.684211     false  "
      ]
     },
     "execution_count": 6,
     "metadata": {},
     "output_type": "execute_result"
    }
   ],
   "source": [
    "train_df.head()"
   ]
  },
  {
   "cell_type": "code",
   "execution_count": null,
   "id": "78de924d",
   "metadata": {},
   "outputs": [],
   "source": [
    "cleanup_re = re.compile('[^a-z]+')\n",
    "\n",
    "def cleanup(sentence):\n",
    "    sentence = sentence.lower()\n",
    "    sentence = cleanup_re.sub(' ', sentence).strip()\n",
    "#     sentence = \" \".join(nltk.word_tokenize(sentence))\n",
    "    return sentence"
   ]
  },
  {
   "cell_type": "code",
   "execution_count": null,
   "id": "ccb2b8aa",
   "metadata": {},
   "outputs": [],
   "source": [
    "train_df['reviewText_cleaned'] = train_df['reviewText'].apply(cleanup)"
   ]
  },
  {
   "cell_type": "code",
   "execution_count": null,
   "id": "6159fc12",
   "metadata": {},
   "outputs": [],
   "source": [
    "stopwords = set(STOPWORDS)\n",
    "\n",
    "#mpl.rcParams['figure.figsize']=(8.0,6.0)    #(6.0,4.0)\n",
    "mpl.rcParams['font.size']=12                #10 \n",
    "mpl.rcParams['savefig.dpi']=100             #72 \n",
    "mpl.rcParams['figure.subplot.bottom']=.1 \n",
    "\n",
    "\n",
    "def show_wordcloud(data, title = None):\n",
    "    wordcloud = WordCloud(\n",
    "        background_color='white',\n",
    "        stopwords=stopwords,\n",
    "        max_words=200,\n",
    "        max_font_size=40, \n",
    "        scale=3,\n",
    "        random_state=1 # chosen at random by flipping a coin; it was heads\n",
    "    ).generate(str(data))\n",
    "    \n",
    "    fig = plt.figure(1, figsize=(12, 12))\n",
    "    plt.axis('off')\n",
    "    if title: \n",
    "        fig.suptitle(title, fontsize=20)\n",
    "        fig.subplots_adjust(top=2.3)\n",
    "\n",
    "    plt.imshow(wordcloud)\n",
    "    plt.show()\n",
    "    \n",
    "show_wordcloud(train_df[train_df['label_aux']=='true'][\"reviewText\"])"
   ]
  },
  {
   "cell_type": "code",
   "execution_count": null,
   "id": "3adb032b",
   "metadata": {},
   "outputs": [],
   "source": [
    "show_wordcloud(train_df[train_df['label_aux']=='false'][\"reviewText\"])"
   ]
  },
  {
   "cell_type": "code",
   "execution_count": null,
   "id": "7f0698c9",
   "metadata": {},
   "outputs": [],
   "source": [
    "from nltk.tokenize import WordPunctTokenizer\n",
    "\n",
    "tokenizer = WordPunctTokenizer()"
   ]
  },
  {
   "cell_type": "code",
   "execution_count": null,
   "id": "15c3c8eb",
   "metadata": {},
   "outputs": [],
   "source": [
    "train_df['reviewText_tokenized'] = train_df['reviewText'].apply(lambda x: ' '.join(tokenizer.tokenize(x)))"
   ]
  },
  {
   "cell_type": "code",
   "execution_count": null,
   "id": "c0deb5d9",
   "metadata": {},
   "outputs": [],
   "source": [
    "show_wordcloud(train_df[train_df['label_aux']=='false']['reviewText_tokenized'].values)"
   ]
  },
  {
   "cell_type": "code",
   "execution_count": null,
   "id": "e3378fe1",
   "metadata": {},
   "outputs": [],
   "source": [
    "show_wordcloud(train_df[train_df['label_aux']=='true']['reviewText_tokenized'].values)"
   ]
  },
  {
   "cell_type": "markdown",
   "id": "70f0b890",
   "metadata": {},
   "source": [
    "# Script to label reviews"
   ]
  },
  {
   "cell_type": "code",
   "execution_count": null,
   "id": "16712376",
   "metadata": {},
   "outputs": [],
   "source": [
    "null_df = train_df[train_df['useful_criteria'].isna()]"
   ]
  },
  {
   "cell_type": "code",
   "execution_count": null,
   "id": "0e441dad",
   "metadata": {
    "scrolled": true
   },
   "outputs": [],
   "source": [
    "for i, row in null_df.iterrows():\n",
    "    print(row['summary'])\n",
    "    print('\\n')\n",
    "    print(row['reviewText'])\n",
    "    true = input()\n",
    "    print('---------')\n",
    "    if true == 'y':\n",
    "        row['useful_criteria'] = 1\n",
    "    elif true == 'n':\n",
    "        row['useful_criteria'] = 0\n",
    "    elif true == 'break':\n",
    "        break\n",
    "    else:\n",
    "        continue\n",
    "    null_df.at[i,'useful_criteria'] = row['useful_criteria']"
   ]
  },
  {
   "cell_type": "code",
   "execution_count": null,
   "id": "5627e684",
   "metadata": {},
   "outputs": [],
   "source": [
    "null_df.head()"
   ]
  },
  {
   "cell_type": "code",
   "execution_count": null,
   "id": "57670989",
   "metadata": {},
   "outputs": [],
   "source": [
    "sample = pd.read_csv('data/sample_submission.csv')\n",
    "sample"
   ]
  },
  {
   "cell_type": "code",
   "execution_count": null,
   "id": "e4be2017",
   "metadata": {},
   "outputs": [],
   "source": [
    "train_df.head()"
   ]
  },
  {
   "cell_type": "markdown",
   "id": "ae7a74e4",
   "metadata": {},
   "source": [
    "# Extra features"
   ]
  },
  {
   "cell_type": "code",
   "execution_count": 41,
   "id": "ef40c607",
   "metadata": {},
   "outputs": [
    {
     "name": "stdout",
     "output_type": "stream",
     "text": [
      "(49992, 9)\n"
     ]
    },
    {
     "data": {
      "text/html": [
       "<div>\n",
       "<style scoped>\n",
       "    .dataframe tbody tr th:only-of-type {\n",
       "        vertical-align: middle;\n",
       "    }\n",
       "\n",
       "    .dataframe tbody tr th {\n",
       "        vertical-align: top;\n",
       "    }\n",
       "\n",
       "    .dataframe thead th {\n",
       "        text-align: right;\n",
       "    }\n",
       "</style>\n",
       "<table border=\"1\" class=\"dataframe\">\n",
       "  <thead>\n",
       "    <tr style=\"text-align: right;\">\n",
       "      <th></th>\n",
       "      <th>reviewerID</th>\n",
       "      <th>reviewerName</th>\n",
       "      <th>reviewText</th>\n",
       "      <th>summary</th>\n",
       "      <th>reviewTime</th>\n",
       "      <th>rates_count</th>\n",
       "      <th>helpful_count</th>\n",
       "      <th>rating</th>\n",
       "    </tr>\n",
       "  </thead>\n",
       "  <tbody>\n",
       "    <tr>\n",
       "      <th>0</th>\n",
       "      <td>A3UPFTGAWZ3G2R</td>\n",
       "      <td>David J. Loftus</td>\n",
       "      <td>Jenkins, a history professor and Member of Par...</td>\n",
       "      <td>Quite readable, nicely done</td>\n",
       "      <td>12 6, 2001</td>\n",
       "      <td>40</td>\n",
       "      <td>37</td>\n",
       "      <td>4</td>\n",
       "    </tr>\n",
       "    <tr>\n",
       "      <th>1</th>\n",
       "      <td>A1XTKTLNSCRLDS</td>\n",
       "      <td>Ellen Rappaport</td>\n",
       "      <td>Detective Inspector Erlendur Sveinsson is at h...</td>\n",
       "      <td>Mesmerizing in depth</td>\n",
       "      <td>02 23, 2014</td>\n",
       "      <td>0</td>\n",
       "      <td>0</td>\n",
       "      <td>5</td>\n",
       "    </tr>\n",
       "    <tr>\n",
       "      <th>2</th>\n",
       "      <td>A1A77B6DQQH436</td>\n",
       "      <td>crescamp \"esc\"</td>\n",
       "      <td>I didn't read this.  I purchased it for a gift...</td>\n",
       "      <td>10-minute life lessons for kids</td>\n",
       "      <td>02 12, 2013</td>\n",
       "      <td>3</td>\n",
       "      <td>0</td>\n",
       "      <td>3</td>\n",
       "    </tr>\n",
       "    <tr>\n",
       "      <th>3</th>\n",
       "      <td>AEAF4MRYHJZI</td>\n",
       "      <td>Angelia Menchan \"acvermen.blogspot.com\"</td>\n",
       "      <td>Fierce Angels by Sheri Park reads like a disse...</td>\n",
       "      <td>So FIERCE</td>\n",
       "      <td>03 24, 2010</td>\n",
       "      <td>9</td>\n",
       "      <td>9</td>\n",
       "      <td>4</td>\n",
       "    </tr>\n",
       "    <tr>\n",
       "      <th>4</th>\n",
       "      <td>A3B7KU72LGWFER</td>\n",
       "      <td>Grifel \"Tea Time\"</td>\n",
       "      <td>Clearly this author had two goals in mind: 1) ...</td>\n",
       "      <td>Drivel!</td>\n",
       "      <td>06 21, 2003</td>\n",
       "      <td>19</td>\n",
       "      <td>13</td>\n",
       "      <td>1</td>\n",
       "    </tr>\n",
       "    <tr>\n",
       "      <th>5</th>\n",
       "      <td>A3JD07VHDLT5FF</td>\n",
       "      <td>isala \"Isabel and Lars\"</td>\n",
       "      <td>This is a collection of stories and memories b...</td>\n",
       "      <td>Compelling stories by ordinary people</td>\n",
       "      <td>03 19, 2005</td>\n",
       "      <td>7</td>\n",
       "      <td>5</td>\n",
       "      <td>5</td>\n",
       "    </tr>\n",
       "    <tr>\n",
       "      <th>6</th>\n",
       "      <td>A1JBVAMC9YU0WD</td>\n",
       "      <td>ED</td>\n",
       "      <td>I am so glad I borrowed this 'book' from the l...</td>\n",
       "      <td>this 'cheese' stinks</td>\n",
       "      <td>09 25, 2000</td>\n",
       "      <td>6</td>\n",
       "      <td>5</td>\n",
       "      <td>1</td>\n",
       "    </tr>\n",
       "    <tr>\n",
       "      <th>7</th>\n",
       "      <td>A1O7OXC13G9X3E</td>\n",
       "      <td>kayp75 \"kayp75\"</td>\n",
       "      <td>Really enjoyable, couldn't put it down. The ch...</td>\n",
       "      <td>great read</td>\n",
       "      <td>10 21, 2013</td>\n",
       "      <td>0</td>\n",
       "      <td>0</td>\n",
       "      <td>5</td>\n",
       "    </tr>\n",
       "    <tr>\n",
       "      <th>8</th>\n",
       "      <td>A1RAUVCWYHTQI4</td>\n",
       "      <td>A. Ross</td>\n",
       "      <td>I don't read a lot of science-fiction (maybe f...</td>\n",
       "      <td>Lots of Good Elements Fail to Add Up to an Eng...</td>\n",
       "      <td>08 4, 2010</td>\n",
       "      <td>3</td>\n",
       "      <td>2</td>\n",
       "      <td>3</td>\n",
       "    </tr>\n",
       "    <tr>\n",
       "      <th>9</th>\n",
       "      <td>A3PZTH1DTX6O6B</td>\n",
       "      <td>H. F. Gibbard \"History Buff\"</td>\n",
       "      <td>Legendary pornographer Larry Flynt teamed up w...</td>\n",
       "      <td>fun but occasionally debatable history of pres...</td>\n",
       "      <td>06 11, 2011</td>\n",
       "      <td>5</td>\n",
       "      <td>4</td>\n",
       "      <td>4</td>\n",
       "    </tr>\n",
       "  </tbody>\n",
       "</table>\n",
       "</div>"
      ],
      "text/plain": [
       "       reviewerID                             reviewerName  \\\n",
       "0  A3UPFTGAWZ3G2R                          David J. Loftus   \n",
       "1  A1XTKTLNSCRLDS                          Ellen Rappaport   \n",
       "2  A1A77B6DQQH436                           crescamp \"esc\"   \n",
       "3    AEAF4MRYHJZI  Angelia Menchan \"acvermen.blogspot.com\"   \n",
       "4  A3B7KU72LGWFER                        Grifel \"Tea Time\"   \n",
       "5  A3JD07VHDLT5FF                  isala \"Isabel and Lars\"   \n",
       "6  A1JBVAMC9YU0WD                                       ED   \n",
       "7  A1O7OXC13G9X3E                          kayp75 \"kayp75\"   \n",
       "8  A1RAUVCWYHTQI4                                  A. Ross   \n",
       "9  A3PZTH1DTX6O6B             H. F. Gibbard \"History Buff\"   \n",
       "\n",
       "                                          reviewText  \\\n",
       "0  Jenkins, a history professor and Member of Par...   \n",
       "1  Detective Inspector Erlendur Sveinsson is at h...   \n",
       "2  I didn't read this.  I purchased it for a gift...   \n",
       "3  Fierce Angels by Sheri Park reads like a disse...   \n",
       "4  Clearly this author had two goals in mind: 1) ...   \n",
       "5  This is a collection of stories and memories b...   \n",
       "6  I am so glad I borrowed this 'book' from the l...   \n",
       "7  Really enjoyable, couldn't put it down. The ch...   \n",
       "8  I don't read a lot of science-fiction (maybe f...   \n",
       "9  Legendary pornographer Larry Flynt teamed up w...   \n",
       "\n",
       "                                             summary   reviewTime  \\\n",
       "0                        Quite readable, nicely done   12 6, 2001   \n",
       "1                               Mesmerizing in depth  02 23, 2014   \n",
       "2                    10-minute life lessons for kids  02 12, 2013   \n",
       "3                                          So FIERCE  03 24, 2010   \n",
       "4                                            Drivel!  06 21, 2003   \n",
       "5              Compelling stories by ordinary people  03 19, 2005   \n",
       "6                               this 'cheese' stinks  09 25, 2000   \n",
       "7                                         great read  10 21, 2013   \n",
       "8  Lots of Good Elements Fail to Add Up to an Eng...   08 4, 2010   \n",
       "9  fun but occasionally debatable history of pres...  06 11, 2011   \n",
       "\n",
       "   rates_count  helpful_count  rating  \n",
       "0           40             37       4  \n",
       "1            0              0       5  \n",
       "2            3              0       3  \n",
       "3            9              9       4  \n",
       "4           19             13       1  \n",
       "5            7              5       5  \n",
       "6            6              5       1  \n",
       "7            0              0       5  \n",
       "8            3              2       3  \n",
       "9            5              4       4  "
      ]
     },
     "execution_count": 41,
     "metadata": {},
     "output_type": "execute_result"
    }
   ],
   "source": [
    "train_df = pd.read_csv('data/book_review_labelled_data.csv')\n",
    "print(train_df.shape)\n",
    "train_df = train_df.drop('overall', axis=1)\n",
    "train_df.head(10)"
   ]
  },
  {
   "cell_type": "code",
   "execution_count": 42,
   "id": "2c2d8bef",
   "metadata": {},
   "outputs": [
    {
     "name": "stdout",
     "output_type": "stream",
     "text": [
      "(49992, 9)\n",
      "(28423, 9)\n"
     ]
    }
   ],
   "source": [
    "train_df['useful_criteria'] = train_df['helpful_count']/train_df['rates_count']\n",
    "print(train_df.shape)\n",
    "train_df = train_df.dropna()\n",
    "print(train_df.shape)"
   ]
  },
  {
   "cell_type": "code",
   "execution_count": 62,
   "id": "440696f3",
   "metadata": {},
   "outputs": [],
   "source": [
    "train_df['label_aux'] = train_df['useful_criteria'].apply(lambda x: 'true' if x >= 0.8 else 'false')"
   ]
  },
  {
   "cell_type": "code",
   "execution_count": 49,
   "id": "be8511a0",
   "metadata": {},
   "outputs": [],
   "source": [
    "stop_words = nltk.corpus.stopwords.words('english')"
   ]
  },
  {
   "cell_type": "code",
   "execution_count": 50,
   "id": "3a29ab2a",
   "metadata": {},
   "outputs": [],
   "source": [
    "train_df['reviewText_lower'] = train_df['reviewText'].str.lower()"
   ]
  },
  {
   "cell_type": "code",
   "execution_count": 51,
   "id": "1faedf78",
   "metadata": {},
   "outputs": [],
   "source": [
    "train_df['reviewText_lower_no_punctuation'] = train_df['reviewText_lower'].apply(lambda x: re.sub(r'[^\\w\\s]','', x))"
   ]
  },
  {
   "cell_type": "code",
   "execution_count": 52,
   "id": "47131d24",
   "metadata": {},
   "outputs": [],
   "source": [
    "train_df['nb_words'] = train_df['reviewText_lower_no_punctuation'].apply(lambda x: len(x.split()))"
   ]
  },
  {
   "cell_type": "code",
   "execution_count": 53,
   "id": "41423929",
   "metadata": {},
   "outputs": [],
   "source": [
    "train_df['nb_stopwords'] = train_df['reviewText_lower_no_punctuation'].apply(lambda x: len([word for word in x.split() if word in stop_words]))"
   ]
  },
  {
   "cell_type": "code",
   "execution_count": 54,
   "id": "2c974515",
   "metadata": {},
   "outputs": [],
   "source": [
    "train_df['avg_word_length'] = train_df['reviewText_lower_no_punctuation'].apply(lambda x: np.mean([len(t) for t in x.split()]) if np.mean([len(t) for t in x.split()  if t not in stop_words]) > 0 else 0)"
   ]
  },
  {
   "cell_type": "code",
   "execution_count": 56,
   "id": "608b9277",
   "metadata": {},
   "outputs": [],
   "source": [
    "from nltk.tokenize import WordPunctTokenizer\n",
    "\n",
    "tokenizer = WordPunctTokenizer()\n",
    "train_df['reviewText_tokenized'] = train_df['reviewText'].apply(lambda x: ' '.join(tokenizer.tokenize(x)))"
   ]
  },
  {
   "cell_type": "code",
   "execution_count": 58,
   "id": "a125f67a",
   "metadata": {},
   "outputs": [],
   "source": [
    "train_df['nb_punctuation'] = train_df['reviewText_tokenized'].apply(lambda x: len([punct for punct in x.split() if punct in string.punctuation]))"
   ]
  },
  {
   "cell_type": "code",
   "execution_count": 69,
   "id": "b31402bc",
   "metadata": {},
   "outputs": [],
   "source": [
    "train_df['nb_punctuation_normalized'] = train_df['nb_punctuation']/train_df['nb_words']\n",
    "train_df['nb_stopwords_normalized'] = train_df['nb_stopwords']/train_df['nb_words']"
   ]
  },
  {
   "cell_type": "code",
   "execution_count": 70,
   "id": "fd29f177",
   "metadata": {},
   "outputs": [
    {
     "data": {
      "text/html": [
       "<div>\n",
       "<style scoped>\n",
       "    .dataframe tbody tr th:only-of-type {\n",
       "        vertical-align: middle;\n",
       "    }\n",
       "\n",
       "    .dataframe tbody tr th {\n",
       "        vertical-align: top;\n",
       "    }\n",
       "\n",
       "    .dataframe thead th {\n",
       "        text-align: right;\n",
       "    }\n",
       "</style>\n",
       "<table border=\"1\" class=\"dataframe\">\n",
       "  <thead>\n",
       "    <tr style=\"text-align: right;\">\n",
       "      <th></th>\n",
       "      <th>reviewerID</th>\n",
       "      <th>reviewerName</th>\n",
       "      <th>reviewText</th>\n",
       "      <th>summary</th>\n",
       "      <th>reviewTime</th>\n",
       "      <th>rates_count</th>\n",
       "      <th>helpful_count</th>\n",
       "      <th>rating</th>\n",
       "      <th>useful_criteria</th>\n",
       "      <th>label_aux</th>\n",
       "      <th>reviewText_lower</th>\n",
       "      <th>reviewText_lower_no_punctuation</th>\n",
       "      <th>nb_words</th>\n",
       "      <th>nb_stopwords</th>\n",
       "      <th>avg_word_length</th>\n",
       "      <th>reviewText_tokenized</th>\n",
       "      <th>nb_punctuation</th>\n",
       "      <th>nb_punctuation_normalized</th>\n",
       "      <th>nb_stopwords_normalized</th>\n",
       "    </tr>\n",
       "  </thead>\n",
       "  <tbody>\n",
       "    <tr>\n",
       "      <th>0</th>\n",
       "      <td>A3UPFTGAWZ3G2R</td>\n",
       "      <td>David J. Loftus</td>\n",
       "      <td>Jenkins, a history professor and Member of Par...</td>\n",
       "      <td>Quite readable, nicely done</td>\n",
       "      <td>12 6, 2001</td>\n",
       "      <td>40</td>\n",
       "      <td>37</td>\n",
       "      <td>4</td>\n",
       "      <td>0.925000</td>\n",
       "      <td>true</td>\n",
       "      <td>jenkins, a history professor and member of par...</td>\n",
       "      <td>jenkins a history professor and member of parl...</td>\n",
       "      <td>256</td>\n",
       "      <td>93</td>\n",
       "      <td>5.656250</td>\n",
       "      <td>Jenkins , a history professor and Member of Pa...</td>\n",
       "      <td>69</td>\n",
       "      <td>0.269531</td>\n",
       "      <td>0.363281</td>\n",
       "    </tr>\n",
       "    <tr>\n",
       "      <th>2</th>\n",
       "      <td>A1A77B6DQQH436</td>\n",
       "      <td>crescamp \"esc\"</td>\n",
       "      <td>I didn't read this.  I purchased it for a gift...</td>\n",
       "      <td>10-minute life lessons for kids</td>\n",
       "      <td>02 12, 2013</td>\n",
       "      <td>3</td>\n",
       "      <td>0</td>\n",
       "      <td>3</td>\n",
       "      <td>0.000000</td>\n",
       "      <td>false</td>\n",
       "      <td>i didn't read this.  i purchased it for a gift...</td>\n",
       "      <td>i didnt read this  i purchased it for a gift f...</td>\n",
       "      <td>25</td>\n",
       "      <td>14</td>\n",
       "      <td>3.600000</td>\n",
       "      <td>I didn ' t read this . I purchased it for a gi...</td>\n",
       "      <td>2</td>\n",
       "      <td>0.080000</td>\n",
       "      <td>0.560000</td>\n",
       "    </tr>\n",
       "    <tr>\n",
       "      <th>3</th>\n",
       "      <td>AEAF4MRYHJZI</td>\n",
       "      <td>Angelia Menchan \"acvermen.blogspot.com\"</td>\n",
       "      <td>Fierce Angels by Sheri Park reads like a disse...</td>\n",
       "      <td>So FIERCE</td>\n",
       "      <td>03 24, 2010</td>\n",
       "      <td>9</td>\n",
       "      <td>9</td>\n",
       "      <td>4</td>\n",
       "      <td>1.000000</td>\n",
       "      <td>true</td>\n",
       "      <td>fierce angels by sheri park reads like a disse...</td>\n",
       "      <td>fierce angels by sheri park reads like a disse...</td>\n",
       "      <td>272</td>\n",
       "      <td>123</td>\n",
       "      <td>4.580882</td>\n",
       "      <td>Fierce Angels by Sheri Park reads like a disse...</td>\n",
       "      <td>37</td>\n",
       "      <td>0.136029</td>\n",
       "      <td>0.452206</td>\n",
       "    </tr>\n",
       "    <tr>\n",
       "      <th>4</th>\n",
       "      <td>A3B7KU72LGWFER</td>\n",
       "      <td>Grifel \"Tea Time\"</td>\n",
       "      <td>Clearly this author had two goals in mind: 1) ...</td>\n",
       "      <td>Drivel!</td>\n",
       "      <td>06 21, 2003</td>\n",
       "      <td>19</td>\n",
       "      <td>13</td>\n",
       "      <td>1</td>\n",
       "      <td>0.684211</td>\n",
       "      <td>false</td>\n",
       "      <td>clearly this author had two goals in mind: 1) ...</td>\n",
       "      <td>clearly this author had two goals in mind 1 to...</td>\n",
       "      <td>103</td>\n",
       "      <td>47</td>\n",
       "      <td>4.466019</td>\n",
       "      <td>Clearly this author had two goals in mind : 1 ...</td>\n",
       "      <td>17</td>\n",
       "      <td>0.165049</td>\n",
       "      <td>0.456311</td>\n",
       "    </tr>\n",
       "    <tr>\n",
       "      <th>5</th>\n",
       "      <td>A3JD07VHDLT5FF</td>\n",
       "      <td>isala \"Isabel and Lars\"</td>\n",
       "      <td>This is a collection of stories and memories b...</td>\n",
       "      <td>Compelling stories by ordinary people</td>\n",
       "      <td>03 19, 2005</td>\n",
       "      <td>7</td>\n",
       "      <td>5</td>\n",
       "      <td>5</td>\n",
       "      <td>0.714286</td>\n",
       "      <td>false</td>\n",
       "      <td>this is a collection of stories and memories b...</td>\n",
       "      <td>this is a collection of stories and memories b...</td>\n",
       "      <td>261</td>\n",
       "      <td>134</td>\n",
       "      <td>4.743295</td>\n",
       "      <td>This is a collection of stories and memories b...</td>\n",
       "      <td>33</td>\n",
       "      <td>0.126437</td>\n",
       "      <td>0.513410</td>\n",
       "    </tr>\n",
       "  </tbody>\n",
       "</table>\n",
       "</div>"
      ],
      "text/plain": [
       "       reviewerID                             reviewerName  \\\n",
       "0  A3UPFTGAWZ3G2R                          David J. Loftus   \n",
       "2  A1A77B6DQQH436                           crescamp \"esc\"   \n",
       "3    AEAF4MRYHJZI  Angelia Menchan \"acvermen.blogspot.com\"   \n",
       "4  A3B7KU72LGWFER                        Grifel \"Tea Time\"   \n",
       "5  A3JD07VHDLT5FF                  isala \"Isabel and Lars\"   \n",
       "\n",
       "                                          reviewText  \\\n",
       "0  Jenkins, a history professor and Member of Par...   \n",
       "2  I didn't read this.  I purchased it for a gift...   \n",
       "3  Fierce Angels by Sheri Park reads like a disse...   \n",
       "4  Clearly this author had two goals in mind: 1) ...   \n",
       "5  This is a collection of stories and memories b...   \n",
       "\n",
       "                                 summary   reviewTime  rates_count  \\\n",
       "0            Quite readable, nicely done   12 6, 2001           40   \n",
       "2        10-minute life lessons for kids  02 12, 2013            3   \n",
       "3                              So FIERCE  03 24, 2010            9   \n",
       "4                                Drivel!  06 21, 2003           19   \n",
       "5  Compelling stories by ordinary people  03 19, 2005            7   \n",
       "\n",
       "   helpful_count  rating  useful_criteria label_aux  \\\n",
       "0             37       4         0.925000      true   \n",
       "2              0       3         0.000000     false   \n",
       "3              9       4         1.000000      true   \n",
       "4             13       1         0.684211     false   \n",
       "5              5       5         0.714286     false   \n",
       "\n",
       "                                    reviewText_lower  \\\n",
       "0  jenkins, a history professor and member of par...   \n",
       "2  i didn't read this.  i purchased it for a gift...   \n",
       "3  fierce angels by sheri park reads like a disse...   \n",
       "4  clearly this author had two goals in mind: 1) ...   \n",
       "5  this is a collection of stories and memories b...   \n",
       "\n",
       "                     reviewText_lower_no_punctuation  nb_words  nb_stopwords  \\\n",
       "0  jenkins a history professor and member of parl...       256            93   \n",
       "2  i didnt read this  i purchased it for a gift f...        25            14   \n",
       "3  fierce angels by sheri park reads like a disse...       272           123   \n",
       "4  clearly this author had two goals in mind 1 to...       103            47   \n",
       "5  this is a collection of stories and memories b...       261           134   \n",
       "\n",
       "   avg_word_length                               reviewText_tokenized  \\\n",
       "0         5.656250  Jenkins , a history professor and Member of Pa...   \n",
       "2         3.600000  I didn ' t read this . I purchased it for a gi...   \n",
       "3         4.580882  Fierce Angels by Sheri Park reads like a disse...   \n",
       "4         4.466019  Clearly this author had two goals in mind : 1 ...   \n",
       "5         4.743295  This is a collection of stories and memories b...   \n",
       "\n",
       "   nb_punctuation  nb_punctuation_normalized  nb_stopwords_normalized  \n",
       "0              69                   0.269531                 0.363281  \n",
       "2               2                   0.080000                 0.560000  \n",
       "3              37                   0.136029                 0.452206  \n",
       "4              17                   0.165049                 0.456311  \n",
       "5              33                   0.126437                 0.513410  "
      ]
     },
     "execution_count": 70,
     "metadata": {},
     "output_type": "execute_result"
    }
   ],
   "source": [
    "train_df.head()"
   ]
  },
  {
   "cell_type": "code",
   "execution_count": 86,
   "id": "3f6eff4c",
   "metadata": {},
   "outputs": [
    {
     "data": {
      "image/png": "[encoded data removed]",
      "text/plain": [
       "<Figure size 432x288 with 1 Axes>"
      ]
     },
     "metadata": {
      "needs_background": "light"
     },
     "output_type": "display_data"
    }
   ],
   "source": [
    "train_df.groupby('label_aux')['nb_stopwords_normalized'].hist(bins=25, alpha=0.7)\n",
    "plt.plot()\n",
    "plt.legend(train_df.label_aux)\n",
    "plt.show()"
   ]
  },
  {
   "cell_type": "code",
   "execution_count": 87,
   "id": "cee2297b",
   "metadata": {},
   "outputs": [
    {
     "data": {
      "image/png": "[encoded data removed]",
      "text/plain": [
       "<Figure size 432x288 with 1 Axes>"
      ]
     },
     "metadata": {
      "needs_background": "light"
     },
     "output_type": "display_data"
    }
   ],
   "source": [
    "train_df.groupby('label_aux')['avg_word_length'].hist(bins=25, alpha=0.7)\n",
    "plt.plot()\n",
    "plt.legend(train_df.label_aux)\n",
    "plt.show()"
   ]
  },
  {
   "cell_type": "code",
   "execution_count": 99,
   "id": "018c74b9",
   "metadata": {},
   "outputs": [
    {
     "data": {
      "image/png": "[encoded data removed]",
      "text/plain": [
       "<Figure size 432x288 with 1 Axes>"
      ]
     },
     "metadata": {
      "needs_background": "light"
     },
     "output_type": "display_data"
    }
   ],
   "source": [
    "train_df.groupby('label_aux')['nb_words'].hist(bins=100, alpha=0.7)\n",
    "plt.plot()\n",
    "plt.legend(train_df.label_aux)\n",
    "plt.xlim(1000, 2000)\n",
    "plt.ylim(0, 30)\n",
    "plt.show()"
   ]
  },
  {
   "cell_type": "code",
   "execution_count": 114,
   "id": "3e4c31c2",
   "metadata": {},
   "outputs": [],
   "source": [
    "def corr_low(df,method='spearman'):\n",
    "    corr = df.corr(method=method)\n",
    "    mask_ = np.tril(np.ones(corr.shape)).astype(bool)\n",
    "    corr_lower = corr.mask(mask_)\n",
    "    plt.figure(figsize=(12,5))\n",
    "    sns.heatmap(corr_lower,\n",
    "               annot=True,\n",
    "               cmap='RdBu_r')\n",
    "    plt.show()"
   ]
  },
  {
   "cell_type": "code",
   "execution_count": 115,
   "id": "b53253a6",
   "metadata": {},
   "outputs": [
    {
     "data": {
      "image/png": "[encoded data removed]",
      "text/plain": [
       "<Figure size 864x360 with 2 Axes>"
      ]
     },
     "metadata": {
      "needs_background": "light"
     },
     "output_type": "display_data"
    }
   ],
   "source": [
    "corr_low(train_df[['useful_criteria', 'nb_words', 'nb_stopwords', 'avg_word_length', 'nb_punctuation', 'rating']])"
   ]
  },
  {
   "cell_type": "code",
   "execution_count": 116,
   "id": "50734a50",
   "metadata": {},
   "outputs": [
    {
     "name": "stderr",
     "output_type": "stream",
     "text": [
      "/home/josemfsantos/.virtualenvs/starters_academy/lib/python3.7/site-packages/numpy/core/fromnumeric.py:3420: RuntimeWarning: Mean of empty slice.\n",
      "  out=out, **kwargs)\n"
     ]
    }
   ],
   "source": [
    "train_df['summary_lower'] = train_df['summary'].str.lower()\n",
    "\n",
    "train_df['summary_lower_no_punctuation'] = train_df['summary_lower'].apply(lambda x: re.sub(r'[^\\w\\s]','', x))\n",
    "\n",
    "train_df['nb_words_summary'] = train_df['summary_lower_no_punctuation'].apply(lambda x: len(x.split()))\n",
    "\n",
    "train_df['nb_stopwords_summary'] = train_df['summary_lower_no_punctuation'].apply(lambda x: len([word for word in x.split() if word in stop_words]))\n",
    "\n",
    "train_df['avg_word_length_summary'] = train_df['summary_lower_no_punctuation'].apply(lambda x: np.mean([len(t) for t in x.split()]) if np.mean([len(t) for t in x.split()  if t not in stop_words]) > 0 else 0)\n",
    "\n",
    "train_df['summary_tokenized'] = train_df['summary'].apply(lambda x: ' '.join(tokenizer.tokenize(x)))\n",
    "\n",
    "train_df['nb_punctuation_summary'] = train_df['summary_tokenized'].apply(lambda x: len([punct for punct in x.split() if punct in string.punctuation]))\n",
    "\n",
    "train_df['nb_punctuation_normalized_summary'] = train_df['nb_punctuation_summary']/train_df['nb_words_summary']\n",
    "train_df['nb_stopwords_normalized_summary'] = train_df['nb_stopwords_summary']/train_df['nb_words_summary']"
   ]
  },
  {
   "cell_type": "code",
   "execution_count": 121,
   "id": "31d933ff",
   "metadata": {},
   "outputs": [
    {
     "data": {
      "image/png": "[encoded data removed]",
      "text/plain": [
       "<Figure size 864x360 with 2 Axes>"
      ]
     },
     "metadata": {
      "needs_background": "light"
     },
     "output_type": "display_data"
    }
   ],
   "source": [
    "corr_low(train_df[['useful_criteria', 'nb_words_summary', 'nb_stopwords_summary', 'avg_word_length_summary', 'nb_punctuation_summary', 'rating']])"
   ]
  },
  {
   "cell_type": "code",
   "execution_count": 128,
   "id": "13a4fdd8",
   "metadata": {},
   "outputs": [],
   "source": [
    "def create_extra_features(df):\n",
    "    df['reviewText_lower'] = df['reviewText'].str.lower()\n",
    "    df['reviewText_lower_no_punctuation'] = df['reviewText_lower'].apply(lambda x: re.sub(r'[^\\w\\s]','', x))\n",
    "\n",
    "    df['nb_words'] = df['reviewText_lower_no_punctuation'].apply(lambda x: len(x.split()))\n",
    "    df['nb_stopwords'] = df['reviewText_lower_no_punctuation'].apply(lambda x: len([word for word in x.split() if word in stop_words]))\n",
    "\n",
    "    df['avg_word_length'] = df['reviewText_lower_no_punctuation'].apply(lambda x: np.mean([len(t) for t in x.split()]) if np.mean([len(t) for t in x.split()  if t not in stop_words]) > 0 else 0)\n",
    "\n",
    "    tokenizer = WordPunctTokenizer()\n",
    "    df['reviewText_tokenized'] = df['reviewText'].apply(lambda x: ' '.join(tokenizer.tokenize(x)))\n",
    "\n",
    "    df['nb_punctuation'] = df['reviewText_tokenized'].apply(lambda x: len([punct for punct in x.split() if punct in string.punctuation]))\n",
    "\n",
    "    df['nb_punctuation_normalized'] = df['nb_punctuation']/df['nb_words']\n",
    "    df['nb_stopwords_normalized'] = df['nb_stopwords']/df['nb_words']\n",
    "    \n",
    "    df = df.drop(['reviewText_lower', 'reviewText_lower_no_punctuation', 'reviewText_tokenized'], axis=1)\n",
    "    new_cols = ['nb_words', 'nb_stopwords', 'avg_word_length', 'nb_punctuation', 'nb_punctuation_normalized', 'nb_stopwords_normalized']\n",
    "    return df, new_cols"
   ]
  },
  {
   "cell_type": "code",
   "execution_count": 168,
   "id": "80a0fbb1",
   "metadata": {},
   "outputs": [],
   "source": [
    "train_df = pd.read_csv('data/book_review_labelled_data.csv')\n",
    "train_df = train_df.drop('overall', axis=1)\n",
    "\n",
    "train_df['useful_criteria'] = train_df['helpful_count']/train_df['rates_count']\n",
    "train_df = train_df.dropna()\n",
    "\n",
    "train_df['label_aux'] = train_df['useful_criteria'].apply(lambda x: 'true' if x >= 0.8 else 'false')\n",
    "\n",
    "X_train, cols = create_extra_features(train_df)"
   ]
  },
  {
   "cell_type": "code",
   "execution_count": 167,
   "id": "1775558b",
   "metadata": {},
   "outputs": [
    {
     "ename": "KeyError",
     "evalue": "\"None of [Index(['nb_words', 'nb_stopwords', 'avg_word_length', 'nb_punctuation',\\n       'nb_punctuation_normalized', 'nb_stopwords_normalized'],\\n      dtype='object')] are in the [index]\"",
     "output_type": "error",
     "traceback": [
      "\u001b[0;31m---------------------------------------------------------------------------\u001b[0m",
      "\u001b[0;31mKeyError\u001b[0m                                  Traceback (most recent call last)",
      "\u001b[0;32m/tmp/ipykernel_430/2955642867.py\u001b[0m in \u001b[0;36m<module>\u001b[0;34m\u001b[0m\n\u001b[0;32m----> 1\u001b[0;31m \u001b[0mX_train_\u001b[0m \u001b[0;34m=\u001b[0m \u001b[0mX_train\u001b[0m\u001b[0;34m[\u001b[0m\u001b[0mcols\u001b[0m\u001b[0;34m]\u001b[0m\u001b[0;34m\u001b[0m\u001b[0;34m\u001b[0m\u001b[0m\n\u001b[0m",
      "\u001b[0;32m~/.virtualenvs/starters_academy/lib/python3.7/site-packages/pandas/core/series.py\u001b[0m in \u001b[0;36m__getitem__\u001b[0;34m(self, key)\u001b[0m\n\u001b[1;32m    875\u001b[0m             \u001b[0;32mreturn\u001b[0m \u001b[0mself\u001b[0m\u001b[0;34m.\u001b[0m\u001b[0m_get_values\u001b[0m\u001b[0;34m(\u001b[0m\u001b[0mkey\u001b[0m\u001b[0;34m)\u001b[0m\u001b[0;34m\u001b[0m\u001b[0;34m\u001b[0m\u001b[0m\n\u001b[1;32m    876\u001b[0m \u001b[0;34m\u001b[0m\u001b[0m\n\u001b[0;32m--> 877\u001b[0;31m         \u001b[0;32mreturn\u001b[0m \u001b[0mself\u001b[0m\u001b[0;34m.\u001b[0m\u001b[0m_get_with\u001b[0m\u001b[0;34m(\u001b[0m\u001b[0mkey\u001b[0m\u001b[0;34m)\u001b[0m\u001b[0;34m\u001b[0m\u001b[0;34m\u001b[0m\u001b[0m\n\u001b[0m\u001b[1;32m    878\u001b[0m \u001b[0;34m\u001b[0m\u001b[0m\n\u001b[1;32m    879\u001b[0m     \u001b[0;32mdef\u001b[0m \u001b[0m_get_with\u001b[0m\u001b[0;34m(\u001b[0m\u001b[0mself\u001b[0m\u001b[0;34m,\u001b[0m \u001b[0mkey\u001b[0m\u001b[0;34m)\u001b[0m\u001b[0;34m:\u001b[0m\u001b[0;34m\u001b[0m\u001b[0;34m\u001b[0m\u001b[0m\n",
      "\u001b[0;32m~/.virtualenvs/starters_academy/lib/python3.7/site-packages/pandas/core/series.py\u001b[0m in \u001b[0;36m_get_with\u001b[0;34m(self, key)\u001b[0m\n\u001b[1;32m    915\u001b[0m \u001b[0;34m\u001b[0m\u001b[0m\n\u001b[1;32m    916\u001b[0m         \u001b[0;31m# handle the dup indexing case GH#4246\u001b[0m\u001b[0;34m\u001b[0m\u001b[0;34m\u001b[0m\u001b[0;34m\u001b[0m\u001b[0m\n\u001b[0;32m--> 917\u001b[0;31m         \u001b[0;32mreturn\u001b[0m \u001b[0mself\u001b[0m\u001b[0;34m.\u001b[0m\u001b[0mloc\u001b[0m\u001b[0;34m[\u001b[0m\u001b[0mkey\u001b[0m\u001b[0;34m]\u001b[0m\u001b[0;34m\u001b[0m\u001b[0;34m\u001b[0m\u001b[0m\n\u001b[0m\u001b[1;32m    918\u001b[0m \u001b[0;34m\u001b[0m\u001b[0m\n\u001b[1;32m    919\u001b[0m     \u001b[0;32mdef\u001b[0m \u001b[0m_get_values_tuple\u001b[0m\u001b[0;34m(\u001b[0m\u001b[0mself\u001b[0m\u001b[0;34m,\u001b[0m \u001b[0mkey\u001b[0m\u001b[0;34m)\u001b[0m\u001b[0;34m:\u001b[0m\u001b[0;34m\u001b[0m\u001b[0;34m\u001b[0m\u001b[0m\n",
      "\u001b[0;32m~/.virtualenvs/starters_academy/lib/python3.7/site-packages/pandas/core/indexing.py\u001b[0m in \u001b[0;36m__getitem__\u001b[0;34m(self, key)\u001b[0m\n\u001b[1;32m    893\u001b[0m \u001b[0;34m\u001b[0m\u001b[0m\n\u001b[1;32m    894\u001b[0m             \u001b[0mmaybe_callable\u001b[0m \u001b[0;34m=\u001b[0m \u001b[0mcom\u001b[0m\u001b[0;34m.\u001b[0m\u001b[0mapply_if_callable\u001b[0m\u001b[0;34m(\u001b[0m\u001b[0mkey\u001b[0m\u001b[0;34m,\u001b[0m \u001b[0mself\u001b[0m\u001b[0;34m.\u001b[0m\u001b[0mobj\u001b[0m\u001b[0;34m)\u001b[0m\u001b[0;34m\u001b[0m\u001b[0;34m\u001b[0m\u001b[0m\n\u001b[0;32m--> 895\u001b[0;31m             \u001b[0;32mreturn\u001b[0m \u001b[0mself\u001b[0m\u001b[0;34m.\u001b[0m\u001b[0m_getitem_axis\u001b[0m\u001b[0;34m(\u001b[0m\u001b[0mmaybe_callable\u001b[0m\u001b[0;34m,\u001b[0m \u001b[0maxis\u001b[0m\u001b[0;34m=\u001b[0m\u001b[0maxis\u001b[0m\u001b[0;34m)\u001b[0m\u001b[0;34m\u001b[0m\u001b[0;34m\u001b[0m\u001b[0m\n\u001b[0m\u001b[1;32m    896\u001b[0m \u001b[0;34m\u001b[0m\u001b[0m\n\u001b[1;32m    897\u001b[0m     \u001b[0;32mdef\u001b[0m \u001b[0m_is_scalar_access\u001b[0m\u001b[0;34m(\u001b[0m\u001b[0mself\u001b[0m\u001b[0;34m,\u001b[0m \u001b[0mkey\u001b[0m\u001b[0;34m:\u001b[0m \u001b[0mTuple\u001b[0m\u001b[0;34m)\u001b[0m\u001b[0;34m:\u001b[0m\u001b[0;34m\u001b[0m\u001b[0;34m\u001b[0m\u001b[0m\n",
      "\u001b[0;32m~/.virtualenvs/starters_academy/lib/python3.7/site-packages/pandas/core/indexing.py\u001b[0m in \u001b[0;36m_getitem_axis\u001b[0;34m(self, key, axis)\u001b[0m\n\u001b[1;32m   1111\u001b[0m                     \u001b[0;32mraise\u001b[0m \u001b[0mValueError\u001b[0m\u001b[0;34m(\u001b[0m\u001b[0;34m\"Cannot index with multidimensional key\"\u001b[0m\u001b[0;34m)\u001b[0m\u001b[0;34m\u001b[0m\u001b[0;34m\u001b[0m\u001b[0m\n\u001b[1;32m   1112\u001b[0m \u001b[0;34m\u001b[0m\u001b[0m\n\u001b[0;32m-> 1113\u001b[0;31m                 \u001b[0;32mreturn\u001b[0m \u001b[0mself\u001b[0m\u001b[0;34m.\u001b[0m\u001b[0m_getitem_iterable\u001b[0m\u001b[0;34m(\u001b[0m\u001b[0mkey\u001b[0m\u001b[0;34m,\u001b[0m \u001b[0maxis\u001b[0m\u001b[0;34m=\u001b[0m\u001b[0maxis\u001b[0m\u001b[0;34m)\u001b[0m\u001b[0;34m\u001b[0m\u001b[0;34m\u001b[0m\u001b[0m\n\u001b[0m\u001b[1;32m   1114\u001b[0m \u001b[0;34m\u001b[0m\u001b[0m\n\u001b[1;32m   1115\u001b[0m             \u001b[0;31m# nested tuple slicing\u001b[0m\u001b[0;34m\u001b[0m\u001b[0;34m\u001b[0m\u001b[0;34m\u001b[0m\u001b[0m\n",
      "\u001b[0;32m~/.virtualenvs/starters_academy/lib/python3.7/site-packages/pandas/core/indexing.py\u001b[0m in \u001b[0;36m_getitem_iterable\u001b[0;34m(self, key, axis)\u001b[0m\n\u001b[1;32m   1051\u001b[0m \u001b[0;34m\u001b[0m\u001b[0m\n\u001b[1;32m   1052\u001b[0m         \u001b[0;31m# A collection of keys\u001b[0m\u001b[0;34m\u001b[0m\u001b[0;34m\u001b[0m\u001b[0;34m\u001b[0m\u001b[0m\n\u001b[0;32m-> 1053\u001b[0;31m         \u001b[0mkeyarr\u001b[0m\u001b[0;34m,\u001b[0m \u001b[0mindexer\u001b[0m \u001b[0;34m=\u001b[0m \u001b[0mself\u001b[0m\u001b[0;34m.\u001b[0m\u001b[0m_get_listlike_indexer\u001b[0m\u001b[0;34m(\u001b[0m\u001b[0mkey\u001b[0m\u001b[0;34m,\u001b[0m \u001b[0maxis\u001b[0m\u001b[0;34m,\u001b[0m \u001b[0mraise_missing\u001b[0m\u001b[0;34m=\u001b[0m\u001b[0;32mFalse\u001b[0m\u001b[0;34m)\u001b[0m\u001b[0;34m\u001b[0m\u001b[0;34m\u001b[0m\u001b[0m\n\u001b[0m\u001b[1;32m   1054\u001b[0m         return self.obj._reindex_with_indexers(\n\u001b[1;32m   1055\u001b[0m             \u001b[0;34m{\u001b[0m\u001b[0maxis\u001b[0m\u001b[0;34m:\u001b[0m \u001b[0;34m[\u001b[0m\u001b[0mkeyarr\u001b[0m\u001b[0;34m,\u001b[0m \u001b[0mindexer\u001b[0m\u001b[0;34m]\u001b[0m\u001b[0;34m}\u001b[0m\u001b[0;34m,\u001b[0m \u001b[0mcopy\u001b[0m\u001b[0;34m=\u001b[0m\u001b[0;32mTrue\u001b[0m\u001b[0;34m,\u001b[0m \u001b[0mallow_dups\u001b[0m\u001b[0;34m=\u001b[0m\u001b[0;32mTrue\u001b[0m\u001b[0;34m\u001b[0m\u001b[0;34m\u001b[0m\u001b[0m\n",
      "\u001b[0;32m~/.virtualenvs/starters_academy/lib/python3.7/site-packages/pandas/core/indexing.py\u001b[0m in \u001b[0;36m_get_listlike_indexer\u001b[0;34m(self, key, axis, raise_missing)\u001b[0m\n\u001b[1;32m   1264\u001b[0m             \u001b[0mkeyarr\u001b[0m\u001b[0;34m,\u001b[0m \u001b[0mindexer\u001b[0m\u001b[0;34m,\u001b[0m \u001b[0mnew_indexer\u001b[0m \u001b[0;34m=\u001b[0m \u001b[0max\u001b[0m\u001b[0;34m.\u001b[0m\u001b[0m_reindex_non_unique\u001b[0m\u001b[0;34m(\u001b[0m\u001b[0mkeyarr\u001b[0m\u001b[0;34m)\u001b[0m\u001b[0;34m\u001b[0m\u001b[0;34m\u001b[0m\u001b[0m\n\u001b[1;32m   1265\u001b[0m \u001b[0;34m\u001b[0m\u001b[0m\n\u001b[0;32m-> 1266\u001b[0;31m         \u001b[0mself\u001b[0m\u001b[0;34m.\u001b[0m\u001b[0m_validate_read_indexer\u001b[0m\u001b[0;34m(\u001b[0m\u001b[0mkeyarr\u001b[0m\u001b[0;34m,\u001b[0m \u001b[0mindexer\u001b[0m\u001b[0;34m,\u001b[0m \u001b[0maxis\u001b[0m\u001b[0;34m,\u001b[0m \u001b[0mraise_missing\u001b[0m\u001b[0;34m=\u001b[0m\u001b[0mraise_missing\u001b[0m\u001b[0;34m)\u001b[0m\u001b[0;34m\u001b[0m\u001b[0;34m\u001b[0m\u001b[0m\n\u001b[0m\u001b[1;32m   1267\u001b[0m         \u001b[0;32mreturn\u001b[0m \u001b[0mkeyarr\u001b[0m\u001b[0;34m,\u001b[0m \u001b[0mindexer\u001b[0m\u001b[0;34m\u001b[0m\u001b[0;34m\u001b[0m\u001b[0m\n\u001b[1;32m   1268\u001b[0m \u001b[0;34m\u001b[0m\u001b[0m\n",
      "\u001b[0;32m~/.virtualenvs/starters_academy/lib/python3.7/site-packages/pandas/core/indexing.py\u001b[0m in \u001b[0;36m_validate_read_indexer\u001b[0;34m(self, key, indexer, axis, raise_missing)\u001b[0m\n\u001b[1;32m   1306\u001b[0m             \u001b[0;32mif\u001b[0m \u001b[0mmissing\u001b[0m \u001b[0;34m==\u001b[0m \u001b[0mlen\u001b[0m\u001b[0;34m(\u001b[0m\u001b[0mindexer\u001b[0m\u001b[0;34m)\u001b[0m\u001b[0;34m:\u001b[0m\u001b[0;34m\u001b[0m\u001b[0;34m\u001b[0m\u001b[0m\n\u001b[1;32m   1307\u001b[0m                 \u001b[0maxis_name\u001b[0m \u001b[0;34m=\u001b[0m \u001b[0mself\u001b[0m\u001b[0;34m.\u001b[0m\u001b[0mobj\u001b[0m\u001b[0;34m.\u001b[0m\u001b[0m_get_axis_name\u001b[0m\u001b[0;34m(\u001b[0m\u001b[0maxis\u001b[0m\u001b[0;34m)\u001b[0m\u001b[0;34m\u001b[0m\u001b[0;34m\u001b[0m\u001b[0m\n\u001b[0;32m-> 1308\u001b[0;31m                 \u001b[0;32mraise\u001b[0m \u001b[0mKeyError\u001b[0m\u001b[0;34m(\u001b[0m\u001b[0;34mf\"None of [{key}] are in the [{axis_name}]\"\u001b[0m\u001b[0;34m)\u001b[0m\u001b[0;34m\u001b[0m\u001b[0;34m\u001b[0m\u001b[0m\n\u001b[0m\u001b[1;32m   1309\u001b[0m \u001b[0;34m\u001b[0m\u001b[0m\n\u001b[1;32m   1310\u001b[0m             \u001b[0max\u001b[0m \u001b[0;34m=\u001b[0m \u001b[0mself\u001b[0m\u001b[0;34m.\u001b[0m\u001b[0mobj\u001b[0m\u001b[0;34m.\u001b[0m\u001b[0m_get_axis\u001b[0m\u001b[0;34m(\u001b[0m\u001b[0maxis\u001b[0m\u001b[0;34m)\u001b[0m\u001b[0;34m\u001b[0m\u001b[0;34m\u001b[0m\u001b[0m\n",
      "\u001b[0;31mKeyError\u001b[0m: \"None of [Index(['nb_words', 'nb_stopwords', 'avg_word_length', 'nb_punctuation',\\n       'nb_punctuation_normalized', 'nb_stopwords_normalized'],\\n      dtype='object')] are in the [index]\""
     ]
    }
   ],
   "source": [
    "X_train_ = X_train[cols]"
   ]
  },
  {
   "cell_type": "code",
   "execution_count": 163,
   "id": "2db963c9",
   "metadata": {},
   "outputs": [],
   "source": [
    "y_train = X_train['label_aux']"
   ]
  },
  {
   "cell_type": "code",
   "execution_count": 164,
   "id": "c4f4be02",
   "metadata": {},
   "outputs": [],
   "source": [
    "X_train, X_test, y_train, y_test = train_test_split(X_train_, y_train,  test_size=0.2, random_state=42)"
   ]
  },
  {
   "cell_type": "code",
   "execution_count": 166,
   "id": "ff46c9e0",
   "metadata": {},
   "outputs": [
    {
     "ename": "AttributeError",
     "evalue": "'Series' object has no attribute 'reshape'",
     "output_type": "error",
     "traceback": [
      "\u001b[0;31m---------------------------------------------------------------------------\u001b[0m",
      "\u001b[0;31mAttributeError\u001b[0m                            Traceback (most recent call last)",
      "\u001b[0;32m/tmp/ipykernel_430/743967803.py\u001b[0m in \u001b[0;36m<module>\u001b[0;34m\u001b[0m\n\u001b[1;32m      1\u001b[0m \u001b[0mrf\u001b[0m \u001b[0;34m=\u001b[0m \u001b[0mRandomForestClassifier\u001b[0m\u001b[0;34m(\u001b[0m\u001b[0;34m)\u001b[0m\u001b[0;34m\u001b[0m\u001b[0;34m\u001b[0m\u001b[0m\n\u001b[0;32m----> 2\u001b[0;31m \u001b[0mrf\u001b[0m\u001b[0;34m.\u001b[0m\u001b[0mfit\u001b[0m\u001b[0;34m(\u001b[0m\u001b[0mX_train\u001b[0m\u001b[0;34m.\u001b[0m\u001b[0mreshape\u001b[0m\u001b[0;34m(\u001b[0m\u001b[0;34m-\u001b[0m\u001b[0;36m1\u001b[0m\u001b[0;34m,\u001b[0m \u001b[0;36m1\u001b[0m\u001b[0;34m)\u001b[0m\u001b[0;34m,\u001b[0m \u001b[0my_train\u001b[0m\u001b[0;34m)\u001b[0m\u001b[0;34m\u001b[0m\u001b[0;34m\u001b[0m\u001b[0m\n\u001b[0m",
      "\u001b[0;32m~/.virtualenvs/starters_academy/lib/python3.7/site-packages/pandas/core/generic.py\u001b[0m in \u001b[0;36m__getattr__\u001b[0;34m(self, name)\u001b[0m\n\u001b[1;32m   5463\u001b[0m             \u001b[0;32mif\u001b[0m \u001b[0mself\u001b[0m\u001b[0;34m.\u001b[0m\u001b[0m_info_axis\u001b[0m\u001b[0;34m.\u001b[0m\u001b[0m_can_hold_identifiers_and_holds_name\u001b[0m\u001b[0;34m(\u001b[0m\u001b[0mname\u001b[0m\u001b[0;34m)\u001b[0m\u001b[0;34m:\u001b[0m\u001b[0;34m\u001b[0m\u001b[0;34m\u001b[0m\u001b[0m\n\u001b[1;32m   5464\u001b[0m                 \u001b[0;32mreturn\u001b[0m \u001b[0mself\u001b[0m\u001b[0;34m[\u001b[0m\u001b[0mname\u001b[0m\u001b[0;34m]\u001b[0m\u001b[0;34m\u001b[0m\u001b[0;34m\u001b[0m\u001b[0m\n\u001b[0;32m-> 5465\u001b[0;31m             \u001b[0;32mreturn\u001b[0m \u001b[0mobject\u001b[0m\u001b[0;34m.\u001b[0m\u001b[0m__getattribute__\u001b[0m\u001b[0;34m(\u001b[0m\u001b[0mself\u001b[0m\u001b[0;34m,\u001b[0m \u001b[0mname\u001b[0m\u001b[0;34m)\u001b[0m\u001b[0;34m\u001b[0m\u001b[0;34m\u001b[0m\u001b[0m\n\u001b[0m\u001b[1;32m   5466\u001b[0m \u001b[0;34m\u001b[0m\u001b[0m\n\u001b[1;32m   5467\u001b[0m     \u001b[0;32mdef\u001b[0m \u001b[0m__setattr__\u001b[0m\u001b[0;34m(\u001b[0m\u001b[0mself\u001b[0m\u001b[0;34m,\u001b[0m \u001b[0mname\u001b[0m\u001b[0;34m:\u001b[0m \u001b[0mstr\u001b[0m\u001b[0;34m,\u001b[0m \u001b[0mvalue\u001b[0m\u001b[0;34m)\u001b[0m \u001b[0;34m->\u001b[0m \u001b[0;32mNone\u001b[0m\u001b[0;34m:\u001b[0m\u001b[0;34m\u001b[0m\u001b[0;34m\u001b[0m\u001b[0m\n",
      "\u001b[0;31mAttributeError\u001b[0m: 'Series' object has no attribute 'reshape'"
     ]
    }
   ],
   "source": [
    "rf = RandomForestClassifier()\n",
    "rf.fit(X_train, y_train)"
   ]
  },
  {
   "cell_type": "code",
   "execution_count": 154,
   "id": "093b41a5",
   "metadata": {},
   "outputs": [],
   "source": [
    "y_pred = rf.predict(X_test)"
   ]
  },
  {
   "cell_type": "code",
   "execution_count": 156,
   "id": "f0fa129f",
   "metadata": {},
   "outputs": [
    {
     "data": {
      "text/plain": [
       "0.5326297273526825"
      ]
     },
     "execution_count": 156,
     "metadata": {},
     "output_type": "execute_result"
    }
   ],
   "source": [
    "accuracy_score(y_test, y_pred)"
   ]
  },
  {
   "cell_type": "code",
   "execution_count": null,
   "id": "fd1f7699",
   "metadata": {},
   "outputs": [],
   "source": []
  },
  {
   "cell_type": "code",
   "execution_count": 183,
   "id": "f5f24fca",
   "metadata": {},
   "outputs": [],
   "source": [
    "count_vect = CountVectorizer(ngram_range = (1, 2))\n",
    "X_train_counts = count_vect.fit_transform(X_train[\"reviewText\"])\n",
    "\n",
    "tfidf_transformer = TfidfTransformer()\n",
    "X_train_tfidf = tfidf_transformer.fit_transform(X_train_counts)"
   ]
  },
  {
   "cell_type": "code",
   "execution_count": 184,
   "id": "eab96586",
   "metadata": {},
   "outputs": [],
   "source": [
    "y_train = X_train[\"label_aux\"]"
   ]
  },
  {
   "cell_type": "code",
   "execution_count": 185,
   "id": "c27ceaa4",
   "metadata": {},
   "outputs": [
    {
     "name": "stderr",
     "output_type": "stream",
     "text": [
      "/home/josemfsantos/.virtualenvs/starters_academy/lib/python3.7/site-packages/sklearn/linear_model/_logistic.py:765: ConvergenceWarning: lbfgs failed to converge (status=1):\n",
      "STOP: TOTAL NO. of ITERATIONS REACHED LIMIT.\n",
      "\n",
      "Increase the number of iterations (max_iter) or scale the data as shown in:\n",
      "    https://scikit-learn.org/stable/modules/preprocessing.html\n",
      "Please also refer to the documentation for alternative solver options:\n",
      "    https://scikit-learn.org/stable/modules/linear_model.html#logistic-regression\n",
      "  extra_warning_msg=_LOGISTIC_SOLVER_CONVERGENCE_MSG)\n"
     ]
    }
   ],
   "source": [
    "from sklearn.linear_model import LogisticRegression\n",
    "logreg = LogisticRegression()\n",
    "logreg_result = logreg.fit(X_train_tfidf, y_train)\n",
    "# prediction['Logistic'] = logreg.predict(X_test_tfidf)"
   ]
  },
  {
   "cell_type": "code",
   "execution_count": 186,
   "id": "97e00e1c",
   "metadata": {},
   "outputs": [
    {
     "data": {
      "text/html": [
       "<div>\n",
       "<style scoped>\n",
       "    .dataframe tbody tr th:only-of-type {\n",
       "        vertical-align: middle;\n",
       "    }\n",
       "\n",
       "    .dataframe tbody tr th {\n",
       "        vertical-align: top;\n",
       "    }\n",
       "\n",
       "    .dataframe thead th {\n",
       "        text-align: right;\n",
       "    }\n",
       "</style>\n",
       "<table border=\"1\" class=\"dataframe\">\n",
       "  <thead>\n",
       "    <tr style=\"text-align: right;\">\n",
       "      <th></th>\n",
       "      <th>feature</th>\n",
       "      <th>coef</th>\n",
       "    </tr>\n",
       "  </thead>\n",
       "  <tbody>\n",
       "    <tr>\n",
       "      <th>211298</th>\n",
       "      <td>boring</td>\n",
       "      <td>-2.492268</td>\n",
       "    </tr>\n",
       "    <tr>\n",
       "      <th>957664</th>\n",
       "      <td>not</td>\n",
       "      <td>-1.962958</td>\n",
       "    </tr>\n",
       "    <tr>\n",
       "      <th>1539393</th>\n",
       "      <td>waste</td>\n",
       "      <td>-1.486574</td>\n",
       "    </tr>\n",
       "    <tr>\n",
       "      <th>951504</th>\n",
       "      <td>no</td>\n",
       "      <td>-1.474341</td>\n",
       "    </tr>\n",
       "    <tr>\n",
       "      <th>1253785</th>\n",
       "      <td>should</td>\n",
       "      <td>-1.466248</td>\n",
       "    </tr>\n",
       "    <tr>\n",
       "      <th>...</th>\n",
       "      <td>...</td>\n",
       "      <td>...</td>\n",
       "    </tr>\n",
       "    <tr>\n",
       "      <th>812813</th>\n",
       "      <td>life</td>\n",
       "      <td>1.860011</td>\n",
       "    </tr>\n",
       "    <tr>\n",
       "      <th>648929</th>\n",
       "      <td>highly</td>\n",
       "      <td>1.891146</td>\n",
       "    </tr>\n",
       "    <tr>\n",
       "      <th>424065</th>\n",
       "      <td>each</td>\n",
       "      <td>1.915512</td>\n",
       "    </tr>\n",
       "    <tr>\n",
       "      <th>1578584</th>\n",
       "      <td>with</td>\n",
       "      <td>2.237484</td>\n",
       "    </tr>\n",
       "    <tr>\n",
       "      <th>74410</th>\n",
       "      <td>and</td>\n",
       "      <td>3.201437</td>\n",
       "    </tr>\n",
       "  </tbody>\n",
       "</table>\n",
       "<p>1620378 rows × 2 columns</p>\n",
       "</div>"
      ],
      "text/plain": [
       "        feature      coef\n",
       "211298   boring -2.492268\n",
       "957664      not -1.962958\n",
       "1539393   waste -1.486574\n",
       "951504       no -1.474341\n",
       "1253785  should -1.466248\n",
       "...         ...       ...\n",
       "812813     life  1.860011\n",
       "648929   highly  1.891146\n",
       "424065     each  1.915512\n",
       "1578584    with  2.237484\n",
       "74410       and  3.201437\n",
       "\n",
       "[1620378 rows x 2 columns]"
      ]
     },
     "execution_count": 186,
     "metadata": {},
     "output_type": "execute_result"
    }
   ],
   "source": [
    "words = count_vect.get_feature_names()\n",
    "\n",
    "feature_coefs = pd.DataFrame(\n",
    "    data = list(zip(words, logreg_result.coef_[0])),\n",
    "    columns = ['feature', 'coef'])\n",
    "\n",
    "feature_coefs.sort_values(by='coef')"
   ]
  },
  {
   "cell_type": "code",
   "execution_count": 211,
   "id": "ab5b0dc7",
   "metadata": {},
   "outputs": [
    {
     "data": {
      "text/plain": [
       "(28423, 19)"
      ]
     },
     "execution_count": 211,
     "metadata": {},
     "output_type": "execute_result"
    }
   ],
   "source": [
    "train_df.shape"
   ]
  },
  {
   "cell_type": "code",
   "execution_count": 212,
   "id": "727796cb",
   "metadata": {},
   "outputs": [],
   "source": [
    "y_train = train_df[\"label_aux\"]\n",
    "X_train, X_test, y_train, y_test = train_test_split(train_df, y_train,  test_size=0.2, random_state=42)"
   ]
  },
  {
   "cell_type": "code",
   "execution_count": 219,
   "id": "315c52ca",
   "metadata": {},
   "outputs": [
    {
     "ename": "IndexError",
     "evalue": "Index dimension must be <= 2",
     "output_type": "error",
     "traceback": [
      "\u001b[0;31m---------------------------------------------------------------------------\u001b[0m",
      "\u001b[0;31mIndexError\u001b[0m                                Traceback (most recent call last)",
      "\u001b[0;32m/tmp/ipykernel_430/2841868232.py\u001b[0m in \u001b[0;36m<module>\u001b[0;34m\u001b[0m\n\u001b[1;32m      1\u001b[0m \u001b[0mvectorizer\u001b[0m \u001b[0;34m=\u001b[0m \u001b[0mTfidfVectorizer\u001b[0m\u001b[0;34m(\u001b[0m\u001b[0;34m)\u001b[0m\u001b[0;34m\u001b[0m\u001b[0;34m\u001b[0m\u001b[0m\n\u001b[0;32m----> 2\u001b[0;31m \u001b[0mX_train\u001b[0m \u001b[0;34m=\u001b[0m \u001b[0mvectorizer\u001b[0m\u001b[0;34m.\u001b[0m\u001b[0mfit_transform\u001b[0m\u001b[0;34m(\u001b[0m\u001b[0mX_train\u001b[0m\u001b[0;34m[\u001b[0m\u001b[0;34m\"reviewText\"\u001b[0m\u001b[0;34m]\u001b[0m\u001b[0;34m)\u001b[0m\u001b[0;34m\u001b[0m\u001b[0;34m\u001b[0m\u001b[0m\n\u001b[0m\u001b[1;32m      3\u001b[0m \u001b[0;31m# X_test = vectorizer.transform(test_data.Tweet)\u001b[0m\u001b[0;34m\u001b[0m\u001b[0;34m\u001b[0m\u001b[0;34m\u001b[0m\u001b[0m\n\u001b[1;32m      4\u001b[0m \u001b[0;34m\u001b[0m\u001b[0m\n\u001b[1;32m      5\u001b[0m \u001b[0msvd\u001b[0m \u001b[0;34m=\u001b[0m \u001b[0mTruncatedSVD\u001b[0m\u001b[0;34m(\u001b[0m\u001b[0mn_components\u001b[0m\u001b[0;34m=\u001b[0m\u001b[0;36m300\u001b[0m\u001b[0;34m,\u001b[0m \u001b[0mrandom_state\u001b[0m\u001b[0;34m=\u001b[0m\u001b[0;36m42\u001b[0m\u001b[0;34m)\u001b[0m\u001b[0;34m\u001b[0m\u001b[0;34m\u001b[0m\u001b[0m\n",
      "\u001b[0;32m~/.virtualenvs/starters_academy/lib/python3.7/site-packages/scipy/sparse/_index.py\u001b[0m in \u001b[0;36m__getitem__\u001b[0;34m(self, key)\u001b[0m\n\u001b[1;32m     31\u001b[0m     \"\"\"\n\u001b[1;32m     32\u001b[0m     \u001b[0;32mdef\u001b[0m \u001b[0m__getitem__\u001b[0m\u001b[0;34m(\u001b[0m\u001b[0mself\u001b[0m\u001b[0;34m,\u001b[0m \u001b[0mkey\u001b[0m\u001b[0;34m)\u001b[0m\u001b[0;34m:\u001b[0m\u001b[0;34m\u001b[0m\u001b[0;34m\u001b[0m\u001b[0m\n\u001b[0;32m---> 33\u001b[0;31m         \u001b[0mrow\u001b[0m\u001b[0;34m,\u001b[0m \u001b[0mcol\u001b[0m \u001b[0;34m=\u001b[0m \u001b[0mself\u001b[0m\u001b[0;34m.\u001b[0m\u001b[0m_validate_indices\u001b[0m\u001b[0;34m(\u001b[0m\u001b[0mkey\u001b[0m\u001b[0;34m)\u001b[0m\u001b[0;34m\u001b[0m\u001b[0;34m\u001b[0m\u001b[0m\n\u001b[0m\u001b[1;32m     34\u001b[0m         \u001b[0;31m# Dispatch to specialized methods.\u001b[0m\u001b[0;34m\u001b[0m\u001b[0;34m\u001b[0m\u001b[0;34m\u001b[0m\u001b[0m\n\u001b[1;32m     35\u001b[0m         \u001b[0;32mif\u001b[0m \u001b[0misinstance\u001b[0m\u001b[0;34m(\u001b[0m\u001b[0mrow\u001b[0m\u001b[0;34m,\u001b[0m \u001b[0mINT_TYPES\u001b[0m\u001b[0;34m)\u001b[0m\u001b[0;34m:\u001b[0m\u001b[0;34m\u001b[0m\u001b[0;34m\u001b[0m\u001b[0m\n",
      "\u001b[0;32m~/.virtualenvs/starters_academy/lib/python3.7/site-packages/scipy/sparse/_index.py\u001b[0m in \u001b[0;36m_validate_indices\u001b[0;34m(self, key)\u001b[0m\n\u001b[1;32m    136\u001b[0m                 \u001b[0mrow\u001b[0m \u001b[0;34m+=\u001b[0m \u001b[0mM\u001b[0m\u001b[0;34m\u001b[0m\u001b[0;34m\u001b[0m\u001b[0m\n\u001b[1;32m    137\u001b[0m         \u001b[0;32melif\u001b[0m \u001b[0;32mnot\u001b[0m \u001b[0misinstance\u001b[0m\u001b[0;34m(\u001b[0m\u001b[0mrow\u001b[0m\u001b[0;34m,\u001b[0m \u001b[0mslice\u001b[0m\u001b[0;34m)\u001b[0m\u001b[0;34m:\u001b[0m\u001b[0;34m\u001b[0m\u001b[0;34m\u001b[0m\u001b[0m\n\u001b[0;32m--> 138\u001b[0;31m             \u001b[0mrow\u001b[0m \u001b[0;34m=\u001b[0m \u001b[0mself\u001b[0m\u001b[0;34m.\u001b[0m\u001b[0m_asindices\u001b[0m\u001b[0;34m(\u001b[0m\u001b[0mrow\u001b[0m\u001b[0;34m,\u001b[0m \u001b[0mM\u001b[0m\u001b[0;34m)\u001b[0m\u001b[0;34m\u001b[0m\u001b[0;34m\u001b[0m\u001b[0m\n\u001b[0m\u001b[1;32m    139\u001b[0m \u001b[0;34m\u001b[0m\u001b[0m\n\u001b[1;32m    140\u001b[0m         \u001b[0;32mif\u001b[0m \u001b[0misintlike\u001b[0m\u001b[0;34m(\u001b[0m\u001b[0mcol\u001b[0m\u001b[0;34m)\u001b[0m\u001b[0;34m:\u001b[0m\u001b[0;34m\u001b[0m\u001b[0;34m\u001b[0m\u001b[0m\n",
      "\u001b[0;32m~/.virtualenvs/starters_academy/lib/python3.7/site-packages/scipy/sparse/_index.py\u001b[0m in \u001b[0;36m_asindices\u001b[0;34m(self, idx, length)\u001b[0m\n\u001b[1;32m    160\u001b[0m \u001b[0;34m\u001b[0m\u001b[0m\n\u001b[1;32m    161\u001b[0m         \u001b[0;32mif\u001b[0m \u001b[0mx\u001b[0m\u001b[0;34m.\u001b[0m\u001b[0mndim\u001b[0m \u001b[0;32mnot\u001b[0m \u001b[0;32min\u001b[0m \u001b[0;34m(\u001b[0m\u001b[0;36m1\u001b[0m\u001b[0;34m,\u001b[0m \u001b[0;36m2\u001b[0m\u001b[0;34m)\u001b[0m\u001b[0;34m:\u001b[0m\u001b[0;34m\u001b[0m\u001b[0;34m\u001b[0m\u001b[0m\n\u001b[0;32m--> 162\u001b[0;31m             \u001b[0;32mraise\u001b[0m \u001b[0mIndexError\u001b[0m\u001b[0;34m(\u001b[0m\u001b[0;34m'Index dimension must be <= 2'\u001b[0m\u001b[0;34m)\u001b[0m\u001b[0;34m\u001b[0m\u001b[0;34m\u001b[0m\u001b[0m\n\u001b[0m\u001b[1;32m    163\u001b[0m \u001b[0;34m\u001b[0m\u001b[0m\n\u001b[1;32m    164\u001b[0m         \u001b[0;32mif\u001b[0m \u001b[0mx\u001b[0m\u001b[0;34m.\u001b[0m\u001b[0msize\u001b[0m \u001b[0;34m==\u001b[0m \u001b[0;36m0\u001b[0m\u001b[0;34m:\u001b[0m\u001b[0;34m\u001b[0m\u001b[0;34m\u001b[0m\u001b[0m\n",
      "\u001b[0;31mIndexError\u001b[0m: Index dimension must be <= 2"
     ]
    }
   ],
   "source": [
    "vectorizer = TfidfVectorizer()\n",
    "X_train = vectorizer.fit_transform(X_train[\"reviewText\"])\n",
    "# X_test = vectorizer.transform(test_data.Tweet)\n",
    "\n",
    "svd = TruncatedSVD(n_components=300, random_state=42)\n",
    "svd.fit(X_train)\n",
    "X_train_svd = svd.transform(X_train)\n",
    "# X_test_svd =  svd.transform(X_test)\n",
    "\n",
    "clf =  RandomForestClassifier()\n",
    "clf.fit(X_train_svd, y_train)"
   ]
  },
  {
   "cell_type": "code",
   "execution_count": 217,
   "id": "1d41927c",
   "metadata": {},
   "outputs": [],
   "source": [
    "X_test = vectorizer.transform(X_test[\"reviewText\"])\n",
    "X_test_svd =  svd.transform(X_test)\n",
    "y_pred = clf.predict(X_test_svd)"
   ]
  },
  {
   "cell_type": "code",
   "execution_count": 218,
   "id": "e439987a",
   "metadata": {},
   "outputs": [
    {
     "data": {
      "text/plain": [
       "0.5632365875109938"
      ]
     },
     "execution_count": 218,
     "metadata": {},
     "output_type": "execute_result"
    }
   ],
   "source": [
    "accuracy_score(y_test, y_pred)"
   ]
  },
  {
   "cell_type": "code",
   "execution_count": null,
   "id": "cdf26ae3",
   "metadata": {},
   "outputs": [],
   "source": []
  }
 ],
 "metadata": {
  "kernelspec": {
   "display_name": "Python 3 (ipykernel)",
   "language": "python",
   "name": "python3"
  },
  "language_info": {
   "codemirror_mode": {
    "name": "ipython",
    "version": 3
   },
   "file_extension": ".py",
   "mimetype": "text/x-python",
   "name": "python",
   "nbconvert_exporter": "python",
   "pygments_lexer": "ipython3",
   "version": "3.7.12"
  }
 },
 "nbformat": 4,
 "nbformat_minor": 5
}
